{
  "cells": [
    {
      "cell_type": "markdown",
      "id": "0c04268e-fc33-46c8-b421-9496043f774a",
      "metadata": {},
      "source": [
        "# BEE 4750 Homework 1: Introduction to Using Julia\n",
        "\n",
        "**Name**:\n",
        "\n",
        "**ID**:\n",
        "\n",
        "> **Due Date**\n",
        ">\n",
        "> Friday, 9/8/23, 9:00pm\n",
        "\n",
        "## Overview\n",
        "\n",
        "### Instructions\n",
        "\n",
        "-   Problems 1-3 consist of a series of code snippets for you to\n",
        "    interpret and debug. For Problems 1 and 2, you will be asked to\n",
        "    identify relevant error(s) and fix the code. For Problem 3, the code\n",
        "    works as intended; your goal is to identify the code’s purpose by\n",
        "    following its logic.\n",
        "-   Problem 4 asks you to convert a verbal description of a wastewater\n",
        "    treatment system into a Julia function, and then to use that\n",
        "    function to explore the impact of different wastewater allocation\n",
        "    strategies.\n",
        "\n",
        "### Load Environment\n",
        "\n",
        "The following code loads the environment and makes sure all needed\n",
        "packages are installed. This should be at the start of most Julia\n",
        "scripts."
      ]
    },
    {
      "cell_type": "code",
      "execution_count": 1,
      "id": "e10389cf",
      "metadata": {},
      "outputs": [
        {
          "name": "stderr",
          "output_type": "stream",
          "text": [
            "\u001b[32m\u001b[1m  Activating\u001b[22m\u001b[39m project at `c:\\Users\\henry\\Downloads\\4750\\Homework\\hw01-henrysigel`"
          ]
        },
        {
          "name": "stderr",
          "output_type": "stream",
          "text": [
            "\n"
          ]
        },
        {
          "name": "stderr",
          "output_type": "stream",
          "text": [
            "\u001b[32m\u001b[1m   Installed\u001b[22m\u001b[39m EarCut_jll ────────────────── v2.2.4+0\n"
          ]
        },
        {
          "name": "stderr",
          "output_type": "stream",
          "text": [
            "\u001b[32m\u001b[1m   Installed\u001b[22m\u001b[39m Xorg_xkbcomp_jll ──────────── v1.4.2+4\n"
          ]
        },
        {
          "name": "stderr",
          "output_type": "stream",
          "text": [
            "\u001b[32m\u001b[1m   Installed\u001b[22m\u001b[39m Xorg_libpthread_stubs_jll ─── v0.1.0+3\n"
          ]
        },
        {
          "name": "stderr",
          "output_type": "stream",
          "text": [
            "\u001b[32m\u001b[1m   Installed\u001b[22m\u001b[39m NetworkLayout ─────────────── v0.4.5\n",
            "\u001b[32m\u001b[1m   Installed\u001b[22m\u001b[39m Xorg_libxkbfile_jll ───────── v1.1.0+4\n",
            "\u001b[32m\u001b[1m   Installed\u001b[22m\u001b[39m OffsetArrays ──────────────── v1.12.9\n"
          ]
        },
        {
          "name": "stderr",
          "output_type": "stream",
          "text": [
            "\u001b[32m\u001b[1m   Installed\u001b[22m\u001b[39m Unitful ───────────────────── v1.14.0\n"
          ]
        },
        {
          "name": "stderr",
          "output_type": "stream",
          "text": [
            "\u001b[32m\u001b[1m   Installed\u001b[22m\u001b[39m StaticArraysCore ──────────── v1.4.0\n",
            "\u001b[32m\u001b[1m   Installed\u001b[22m\u001b[39m Xorg_libXau_jll ───────────── v1.0.9+4\n"
          ]
        },
        {
          "name": "stderr",
          "output_type": "stream",
          "text": [
            "\u001b[32m\u001b[1m   Installed\u001b[22m\u001b[39m HTTP ──────────────────────── v1.9.7\n",
            "\u001b[32m\u001b[1m   Installed\u001b[22m\u001b[39m ArnoldiMethod ─────────────── v0.2.0\n"
          ]
        },
        {
          "name": "stderr",
          "output_type": "stream",
          "text": [
            "\u001b[32m\u001b[1m   Installed\u001b[22m\u001b[39m Ratios ────────────────────── v0.4.5\n"
          ]
        },
        {
          "name": "stderr",
          "output_type": "stream",
          "text": [
            "\u001b[32m\u001b[1m   Installed\u001b[22m\u001b[39m DataStructures ────────────── v0.18.13\n"
          ]
        },
        {
          "name": "stderr",
          "output_type": "stream",
          "text": [
            "\u001b[32m\u001b[1m   Installed\u001b[22m\u001b[39m StaticArrays ──────────────── v1.5.26\n"
          ]
        },
        {
          "name": "stderr",
          "output_type": "stream",
          "text": [
            "\u001b[32m\u001b[1m   Installed\u001b[22m\u001b[39m FreeType2_jll ─────────────── v2.10.4+0\n",
            "\u001b[32m\u001b[1m   Installed\u001b[22m\u001b[39m Xorg_libxcb_jll ───────────── v1.13.0+3\n"
          ]
        },
        {
          "name": "stderr",
          "output_type": "stream",
          "text": [
            "\u001b[32m\u001b[1m   Installed\u001b[22m\u001b[39m TableTraits ───────────────── v1.0.1\n"
          ]
        },
        {
          "name": "stderr",
          "output_type": "stream",
          "text": [
            "\u001b[32m\u001b[1m   Installed\u001b[22m\u001b[39m Inflate ───────────────────── v0.1.3\n",
            "\u001b[32m\u001b[1m   Installed\u001b[22m\u001b[39m GeometryTypes ─────────────── v0.8.5\n",
            "\u001b[32m\u001b[1m   Installed\u001b[22m\u001b[39m GraphRecipes ──────────────── v0.5.12\n"
          ]
        },
        {
          "name": "stderr",
          "output_type": "stream",
          "text": [
            "\u001b[32m\u001b[1m   Installed\u001b[22m\u001b[39m ConstructionBase ──────────── v1.5.2\n"
          ]
        },
        {
          "name": "stderr",
          "output_type": "stream",
          "text": [
            "\u001b[32m\u001b[1m   Installed\u001b[22m\u001b[39m DataValueInterfaces ───────── v1.0.0\n"
          ]
        },
        {
          "name": "stderr",
          "output_type": "stream",
          "text": [
            "\u001b[32m\u001b[1m   Installed\u001b[22m\u001b[39m Graphs ────────────────────── v1.8.0\n"
          ]
        },
        {
          "name": "stderr",
          "output_type": "stream",
          "text": [
            "\u001b[32m\u001b[1m   Installed\u001b[22m\u001b[39m SimpleTraits ──────────────── v0.9.4\n"
          ]
        },
        {
          "name": "stderr",
          "output_type": "stream",
          "text": [
            "\u001b[32m\u001b[1m   Installed\u001b[22m\u001b[39m GPUArraysCore ─────────────── v0.1.5\n"
          ]
        },
        {
          "name": "stderr",
          "output_type": "stream",
          "text": [
            "\u001b[32m\u001b[1m   Installed\u001b[22m\u001b[39m Adapt ─────────────────────── v3.6.2\n"
          ]
        },
        {
          "name": "stderr",
          "output_type": "stream",
          "text": [
            "\u001b[32m\u001b[1m   Installed\u001b[22m\u001b[39m Extents ───────────────────── v0.1.1\n"
          ]
        },
        {
          "name": "stderr",
          "output_type": "stream",
          "text": [
            "\u001b[32m\u001b[1m   Installed\u001b[22m\u001b[39m ChainRulesCore ────────────── v1.16.0\n"
          ]
        },
        {
          "name": "stderr",
          "output_type": "stream",
          "text": [
            "\u001b[32m\u001b[1m   Installed\u001b[22m\u001b[39m AbstractTrees ─────────────── v0.4.4\n",
            "\u001b[32m\u001b[1m   Installed\u001b[22m\u001b[39m Xorg_xtrans_jll ───────────── v1.4.0+3\n"
          ]
        },
        {
          "name": "stderr",
          "output_type": "stream",
          "text": [
            "\u001b[32m\u001b[1m   Installed\u001b[22m\u001b[39m IterTools ─────────────────── v1.8.0\n",
            "\u001b[32m\u001b[1m   Installed\u001b[22m\u001b[39m GeometryBasics ────────────── v0.4.7\n"
          ]
        },
        {
          "name": "stderr",
          "output_type": "stream",
          "text": [
            "\u001b[32m\u001b[1m   Installed\u001b[22m\u001b[39m Tables ────────────────────── v1.10.1\n"
          ]
        },
        {
          "name": "stderr",
          "output_type": "stream",
          "text": [
            "\u001b[32m\u001b[1m   Installed\u001b[22m\u001b[39m IteratorInterfaceExtensions ─ v1.0.0\n"
          ]
        },
        {
          "name": "stderr",
          "output_type": "stream",
          "text": [
            "\u001b[32m\u001b[1m   Installed\u001b[22m\u001b[39m Xorg_libX11_jll ───────────── v1.6.9+4\n",
            "\u001b[32m\u001b[1m   Installed\u001b[22m\u001b[39m AxisAlgorithms ────────────── v1.0.1\n",
            "\u001b[32m\u001b[1m   Installed\u001b[22m\u001b[39m Xorg_libXdmcp_jll ─────────── v1.1.3+4\n",
            "\u001b[32m\u001b[1m   Installed\u001b[22m\u001b[39m StructArrays ──────────────── v0.6.15\n"
          ]
        },
        {
          "name": "stderr",
          "output_type": "stream",
          "text": [
            "\u001b[32m\u001b[1m   Installed\u001b[22m\u001b[39m WoodburyMatrices ──────────── v0.5.5\n"
          ]
        },
        {
          "name": "stderr",
          "output_type": "stream",
          "text": [
            "\u001b[32m\u001b[1m   Installed\u001b[22m\u001b[39m Xorg_xkeyboard_config_jll ─── v2.27.0+4\n",
            "\u001b[32m\u001b[1m   Installed\u001b[22m\u001b[39m GeoInterface ──────────────── v1.3.1\n"
          ]
        },
        {
          "name": "stderr",
          "output_type": "stream",
          "text": [
            "\u001b[32m\u001b[1m   Installed\u001b[22m\u001b[39m Interpolations ────────────── v0.14.7\n"
          ]
        },
        {
          "name": "stderr",
          "output_type": "stream",
          "text": [
            "\u001b[32m\u001b[1mPrecompiling\u001b[22m\u001b[39m"
          ]
        },
        {
          "name": "stderr",
          "output_type": "stream",
          "text": [
            " project..."
          ]
        },
        {
          "name": "stderr",
          "output_type": "stream",
          "text": [
            "\n"
          ]
        },
        {
          "name": "stderr",
          "output_type": "stream",
          "text": [
            "\u001b[32m  ✓ \u001b[39m\u001b[90mIteratorInterfaceExtensions\u001b[39m\n",
            "\u001b[32m  ✓ \u001b[39m\u001b[90mDataValueInterfaces\u001b[39m\n",
            "\u001b[32m  ✓ \u001b[39m"
          ]
        },
        {
          "name": "stderr",
          "output_type": "stream",
          "text": [
            "\u001b[90mWoodburyMatrices\u001b[39m\n"
          ]
        },
        {
          "name": "stderr",
          "output_type": "stream",
          "text": [
            "\u001b[32m  ✓ \u001b[39m\u001b[90mIterTools\u001b[39m\n",
            "\u001b[32m  ✓ \u001b[39m\u001b[90mAbstractTrees\u001b[39m\n"
          ]
        },
        {
          "name": "stderr",
          "output_type": "stream",
          "text": [
            "\u001b[32m  ✓ \u001b[39m\u001b[90mExtents\u001b[39m\n"
          ]
        },
        {
          "name": "stderr",
          "output_type": "stream",
          "text": [
            "\u001b[32m  ✓ \u001b[39m\u001b[90mRatios\u001b[39m\n"
          ]
        },
        {
          "name": "stderr",
          "output_type": "stream",
          "text": [
            "\u001b[32m  ✓ \u001b[39m\u001b[90mInflate\u001b[39m"
          ]
        },
        {
          "name": "stderr",
          "output_type": "stream",
          "text": [
            "\n"
          ]
        },
        {
          "name": "stderr",
          "output_type": "stream",
          "text": [
            "\u001b[32m  ✓ \u001b[39m\u001b[90mAdapt\u001b[39m\n"
          ]
        },
        {
          "name": "stderr",
          "output_type": "stream",
          "text": [
            "\u001b[32m  ✓ \u001b[39m\u001b[90mStaticArraysCore\u001b[39m\n"
          ]
        },
        {
          "name": "stderr",
          "output_type": "stream",
          "text": [
            "\u001b[32m  ✓ \u001b[39m\u001b[90mConstructionBase\u001b[39m\n"
          ]
        },
        {
          "name": "stderr",
          "output_type": "stream",
          "text": [
            "\u001b[32m  ✓ \u001b[39m\u001b[90mChainRulesCore\u001b[39m\n"
          ]
        },
        {
          "name": "stderr",
          "output_type": "stream",
          "text": [
            "\u001b[32m  ✓ \u001b[39m\u001b[90mXorg_libXau_jll\u001b[39m\n"
          ]
        },
        {
          "name": "stderr",
          "output_type": "stream",
          "text": [
            "\u001b[32m  ✓ \u001b[39m\u001b[90mSimpleTraits\u001b[39m\n"
          ]
        },
        {
          "name": "stderr",
          "output_type": "stream",
          "text": [
            "\u001b[32m  ✓ \u001b[39m\u001b[90mEarCut_jll\u001b[39m\n"
          ]
        },
        {
          "name": "stderr",
          "output_type": "stream",
          "text": [
            "\u001b[32m  ✓ \u001b[39m\u001b[90mXorg_libXdmcp_jll\u001b[39m\n"
          ]
        },
        {
          "name": "stderr",
          "output_type": "stream",
          "text": [
            "\u001b[32m  ✓ \u001b[39m\u001b[90mXorg_xtrans_jll\u001b[39m\n"
          ]
        },
        {
          "name": "stderr",
          "output_type": "stream",
          "text": [
            "\u001b[32m  ✓ \u001b[39m\u001b[90mXorg_libpthread_stubs_jll\u001b[39m\n"
          ]
        },
        {
          "name": "stderr",
          "output_type": "stream",
          "text": [
            "\u001b[32m  ✓ \u001b[39m\u001b[90mDataStructures\u001b[39m\n"
          ]
        },
        {
          "name": "stderr",
          "output_type": "stream",
          "text": [
            "\u001b[32m  ✓ \u001b[39m\u001b[90mTableTraits\u001b[39m\n"
          ]
        },
        {
          "name": "stderr",
          "output_type": "stream",
          "text": [
            "\u001b[32m  ✓ \u001b[39m\u001b[90mFreeType2_jll\u001b[39m\n"
          ]
        },
        {
          "name": "stderr",
          "output_type": "stream",
          "text": [
            "\u001b[32m  ✓ \u001b[39m\u001b[90mAxisAlgorithms\u001b[39m\n"
          ]
        },
        {
          "name": "stderr",
          "output_type": "stream",
          "text": [
            "\u001b[32m  ✓ \u001b[39m\u001b[90mGeoInterface\u001b[39m\n"
          ]
        },
        {
          "name": "stderr",
          "output_type": "stream",
          "text": [
            "\u001b[32m  ✓ \u001b[39m\u001b[90mRatios → RatiosFixedPointNumbersExt\u001b[39m\n"
          ]
        },
        {
          "name": "stderr",
          "output_type": "stream",
          "text": [
            "\u001b[32m  ✓ \u001b[39m\u001b[90mSortingAlgorithms\u001b[39m\n"
          ]
        },
        {
          "name": "stderr",
          "output_type": "stream",
          "text": [
            "\u001b[32m  ✓ \u001b[39m\u001b[90mXorg_libxcb_jll\u001b[39m\n"
          ]
        },
        {
          "name": "stderr",
          "output_type": "stream",
          "text": [
            "\u001b[32m  ✓ \u001b[39m\u001b[90mLogExpFunctions → LogExpFunctionsChainRulesCoreExt\u001b[39m\n"
          ]
        },
        {
          "name": "stderr",
          "output_type": "stream",
          "text": [
            "\u001b[32m  ✓ \u001b[39m\u001b[90mTables\u001b[39m\n"
          ]
        },
        {
          "name": "stderr",
          "output_type": "stream",
          "text": [
            "\u001b[32m  ✓ \u001b[39m\u001b[90mFontconfig_jll\u001b[39m\n"
          ]
        },
        {
          "name": "stderr",
          "output_type": "stream",
          "text": [
            "\u001b[32m  ✓ \u001b[39m\u001b[90mXorg_xcb_util_jll\u001b[39m\n"
          ]
        },
        {
          "name": "stderr",
          "output_type": "stream",
          "text": [
            "\u001b[32m  ✓ \u001b[39m\u001b[90mHTTP\u001b[39m\n"
          ]
        },
        {
          "name": "stderr",
          "output_type": "stream",
          "text": [
            "\u001b[32m  ✓ \u001b[39m\u001b[90mXorg_libX11_jll\u001b[39m\n"
          ]
        },
        {
          "name": "stderr",
          "output_type": "stream",
          "text": [
            "\u001b[32m  ✓ \u001b[39m\u001b[90mXorg_xcb_util_image_jll\u001b[39m\n"
          ]
        },
        {
          "name": "stderr",
          "output_type": "stream",
          "text": [
            "\u001b[32m  ✓ \u001b[39m\u001b[90mXorg_xcb_util_keysyms_jll\u001b[39m\n"
          ]
        },
        {
          "name": "stderr",
          "output_type": "stream",
          "text": [
            "\u001b[32m  ✓ \u001b[39m\u001b[90mXorg_xcb_util_renderutil_jll\u001b[39m\n"
          ]
        },
        {
          "name": "stderr",
          "output_type": "stream",
          "text": [
            "\u001b[32m  ✓ \u001b[39m\u001b[90mXorg_xcb_util_wm_jll\u001b[39m\n"
          ]
        },
        {
          "name": "stderr",
          "output_type": "stream",
          "text": [
            "\u001b[32m  ✓ \u001b[39m\u001b[90mStatsBase\u001b[39m\n"
          ]
        },
        {
          "name": "stderr",
          "output_type": "stream",
          "text": [
            "\u001b[32m  ✓ \u001b[39m\u001b[90mXorg_libXrender_jll\u001b[39m\n"
          ]
        },
        {
          "name": "stderr",
          "output_type": "stream",
          "text": [
            "\u001b[32m  ✓ \u001b[39m\u001b[90mXorg_libXext_jll\u001b[39m\n"
          ]
        },
        {
          "name": "stderr",
          "output_type": "stream",
          "text": [
            "\u001b[32m  ✓ \u001b[39m\u001b[90mSpecialFunctions\u001b[39m\n"
          ]
        },
        {
          "name": "stderr",
          "output_type": "stream",
          "text": [
            "\u001b[32m  ✓ \u001b[39m\u001b[90mXorg_libXfixes_jll\u001b[39m\n"
          ]
        },
        {
          "name": "stderr",
          "output_type": "stream",
          "text": [
            "\u001b[32m  ✓ \u001b[39m\u001b[90mXorg_libxkbfile_jll\u001b[39m\n"
          ]
        },
        {
          "name": "stderr",
          "output_type": "stream",
          "text": [
            "\u001b[32m  ✓ \u001b[39m\u001b[90mLibglvnd_jll\u001b[39m\n"
          ]
        },
        {
          "name": "stderr",
          "output_type": "stream",
          "text": [
            "\u001b[32m  ✓ \u001b[39m\u001b[90mXorg_libXinerama_jll\u001b[39m\n"
          ]
        },
        {
          "name": "stderr",
          "output_type": "stream",
          "text": [
            "\u001b[32m  ✓ \u001b[39m\u001b[90mXorg_libXrandr_jll\u001b[39m\n"
          ]
        },
        {
          "name": "stderr",
          "output_type": "stream",
          "text": [
            "\u001b[32m  ✓ \u001b[39m\u001b[90mStaticArrays\u001b[39m\n"
          ]
        },
        {
          "name": "stderr",
          "output_type": "stream",
          "text": [
            "\u001b[32m  ✓ \u001b[39m\u001b[90mXorg_libXcursor_jll\u001b[39m\n"
          ]
        },
        {
          "name": "stderr",
          "output_type": "stream",
          "text": [
            "\u001b[32m  ✓ \u001b[39m\u001b[90mCairo_jll\u001b[39m\n"
          ]
        },
        {
          "name": "stderr",
          "output_type": "stream",
          "text": [
            "\u001b[32m  ✓ \u001b[39m\u001b[90mSpecialFunctions → SpecialFunctionsChainRulesCoreExt\u001b[39m\n"
          ]
        },
        {
          "name": "stderr",
          "output_type": "stream",
          "text": [
            "\u001b[32m  ✓ \u001b[39m\u001b[90mXorg_libXi_jll\u001b[39m\n"
          ]
        },
        {
          "name": "stderr",
          "output_type": "stream",
          "text": [
            "\u001b[32m  ✓ \u001b[39m\u001b[90mXorg_xkbcomp_jll\u001b[39m\n"
          ]
        },
        {
          "name": "stderr",
          "output_type": "stream",
          "text": [
            "\u001b[32m  ✓ \u001b[39m\u001b[90mArnoldiMethod\u001b[39m\n"
          ]
        },
        {
          "name": "stderr",
          "output_type": "stream",
          "text": [
            "\u001b[32m  ✓ \u001b[39m\u001b[90mAdapt → AdaptStaticArraysExt\u001b[39m\n",
            "\u001b[32m  ✓ \u001b[39m\u001b[90mConstructionBase → ConstructionBaseStaticArraysExt\u001b[39m\n"
          ]
        },
        {
          "name": "stderr",
          "output_type": "stream",
          "text": [
            "\u001b[32m  ✓ \u001b[39m\u001b[90mColorVectorSpace\u001b[39m\n"
          ]
        },
        {
          "name": "stderr",
          "output_type": "stream",
          "text": [
            "\u001b[32m  ✓ \u001b[39m\u001b[90mXorg_xkeyboard_config_jll\u001b[39m\n"
          ]
        },
        {
          "name": "stderr",
          "output_type": "stream",
          "text": [
            "\u001b[32m  ✓ \u001b[39m\u001b[90mGLFW_jll\u001b[39m\n"
          ]
        },
        {
          "name": "stderr",
          "output_type": "stream",
          "text": [
            "\u001b[32m  ✓ \u001b[39m\u001b[90mHarfBuzz_jll\u001b[39m\n"
          ]
        },
        {
          "name": "stderr",
          "output_type": "stream",
          "text": [
            "\u001b[32m  ✓ \u001b[39m\u001b[90mGeometryTypes\u001b[39m\n"
          ]
        },
        {
          "name": "stderr",
          "output_type": "stream",
          "text": [
            "\u001b[32m  ✓ \u001b[39m\u001b[90mGPUArraysCore\u001b[39m\n"
          ]
        },
        {
          "name": "stderr",
          "output_type": "stream",
          "text": [
            "\u001b[32m  ✓ \u001b[39m\u001b[90mxkbcommon_jll\u001b[39m\n"
          ]
        },
        {
          "name": "stderr",
          "output_type": "stream",
          "text": [
            "\u001b[32m  ✓ \u001b[39m\u001b[90mOffsetArrays\u001b[39m\n"
          ]
        },
        {
          "name": "stderr",
          "output_type": "stream",
          "text": [
            "\u001b[32m  ✓ \u001b[39m\u001b[90mStructArrays\u001b[39m\n"
          ]
        },
        {
          "name": "stderr",
          "output_type": "stream",
          "text": [
            "\u001b[32m  ✓ \u001b[39m\u001b[90mlibass_jll\u001b[39m\n"
          ]
        },
        {
          "name": "stderr",
          "output_type": "stream",
          "text": [
            "\u001b[32m  ✓ \u001b[39m\u001b[90mQt5Base_jll\u001b[39m\n"
          ]
        },
        {
          "name": "stderr",
          "output_type": "stream",
          "text": [
            "\u001b[32m  ✓ \u001b[39m\u001b[90mGraphs\u001b[39m\n"
          ]
        },
        {
          "name": "stderr",
          "output_type": "stream",
          "text": [
            "\u001b[32m  ✓ \u001b[39m\u001b[90mInterpolations\u001b[39m\n"
          ]
        },
        {
          "name": "stderr",
          "output_type": "stream",
          "text": [
            "\u001b[32m  ✓ \u001b[39m\u001b[90mFFMPEG_jll\u001b[39m\n"
          ]
        },
        {
          "name": "stderr",
          "output_type": "stream",
          "text": [
            "\u001b[32m  ✓ \u001b[39m\u001b[90mColorSchemes\u001b[39m\n"
          ]
        },
        {
          "name": "stderr",
          "output_type": "stream",
          "text": [
            "\u001b[32m  ✓ \u001b[39m\u001b[90mFFMPEG\u001b[39m\n"
          ]
        },
        {
          "name": "stderr",
          "output_type": "stream",
          "text": [
            "\u001b[32m  ✓ \u001b[39m\u001b[90mGR_jll\u001b[39m\n"
          ]
        },
        {
          "name": "stderr",
          "output_type": "stream",
          "text": [
            "\u001b[32m  ✓ \u001b[39m\u001b[90mGeometryBasics\u001b[39m\n"
          ]
        },
        {
          "name": "stderr",
          "output_type": "stream",
          "text": [
            "\u001b[32m  ✓ \u001b[39m\u001b[90mGR\u001b[39m\n"
          ]
        },
        {
          "name": "stderr",
          "output_type": "stream",
          "text": [
            "\u001b[32m  ✓ \u001b[39m\u001b[90mNetworkLayout\u001b[39m\n"
          ]
        },
        {
          "name": "stderr",
          "output_type": "stream",
          "text": [
            "\u001b[32m  ✓ \u001b[39m\u001b[90mPlotUtils\u001b[39m\n"
          ]
        },
        {
          "name": "stderr",
          "output_type": "stream",
          "text": [
            "\u001b[32m  ✓ \u001b[39m\u001b[90mPlotThemes\u001b[39m\n"
          ]
        },
        {
          "name": "stderr",
          "output_type": "stream",
          "text": [
            "\u001b[32m  ✓ \u001b[39mGraphRecipes\n"
          ]
        },
        {
          "name": "stderr",
          "output_type": "stream",
          "text": [
            "\u001b[32m  ✓ \u001b[39m\u001b[90mRecipesPipeline\u001b[39m\n"
          ]
        },
        {
          "name": "stderr",
          "output_type": "stream",
          "text": [
            "\u001b[32m  ✓ \u001b[39m\u001b[90mUnitful\u001b[39m\n"
          ]
        },
        {
          "name": "stderr",
          "output_type": "stream",
          "text": [
            "\u001b[32m  ✓ \u001b[39m\u001b[90mUnitfulLatexify\u001b[39m\n"
          ]
        },
        {
          "name": "stderr",
          "output_type": "stream",
          "text": [
            "\u001b[32m  ✓ \u001b[39mPlots\n"
          ]
        },
        {
          "name": "stderr",
          "output_type": "stream",
          "text": [
            "\u001b[32m  ✓ \u001b[39m\u001b[90mPlots → IJuliaExt\u001b[39m\n"
          ]
        },
        {
          "name": "stderr",
          "output_type": "stream",
          "text": [
            "\u001b[32m  ✓ \u001b[39m\u001b[90mPlots → GeometryBasicsExt\u001b[39m\n"
          ]
        },
        {
          "name": "stderr",
          "output_type": "stream",
          "text": [
            "\u001b[32m  ✓ \u001b[39m\u001b[90mPlots → UnitfulExt\u001b[39m\n"
          ]
        },
        {
          "name": "stderr",
          "output_type": "stream",
          "text": [
            "  84 dependencies successfully precompiled in 203 seconds. 97 already precompiled.\n"
          ]
        }
      ],
      "source": [
        "import Pkg\n",
        "Pkg.activate(@__DIR__)\n",
        "Pkg.instantiate()"
      ]
    },
    {
      "cell_type": "code",
      "execution_count": 2,
      "id": "dfdf87f1",
      "metadata": {},
      "outputs": [],
      "source": [
        "using Plots\n",
        "using GraphRecipes\n",
        "using LaTeXStrings"
      ]
    },
    {
      "cell_type": "markdown",
      "id": "6b2aeb68-2a20-43f1-ad76-56e0a3ba1ad7",
      "metadata": {},
      "source": [
        "## Problems (Total: 40 Points)\n",
        "\n",
        "### Problem 1 (8 points)\n",
        "\n",
        "You’ve been tasked with writing code to identify the minimum value in an\n",
        "array. You cannot use a predefined function. Your colleague suggested\n",
        "the function below, but it does not return the minimum value."
      ]
    },
    {
      "cell_type": "code",
      "execution_count": 7,
      "id": "c9a85754",
      "metadata": {},
      "outputs": [
        {
          "name": "stdout",
          "output_type": "stream",
          "text": [
            "minimum(array_values) = 0\n"
          ]
        }
      ],
      "source": [
        "function minimum(array)\n",
        "    min_value = 0\n",
        "    for i in 1:length(array)\n",
        "        if array[i] < min_value\n",
        "            min_value = array[i]\n",
        "        end\n",
        "    end\n",
        "    return min_value\n",
        "end\n",
        "\n",
        "array_values = [89, 90, 95, 100, 100, 78, 99, 98, 100, 95]\n",
        "@show minimum(array_values);"
      ]
    },
    {
      "cell_type": "markdown",
      "id": "1482ab94-ab2c-4331-bc99-2127f2ab4256",
      "metadata": {},
      "source": [
        "#### Problem 1.1 (3 points)\n",
        "\n",
        "Describe the logic error."
      ]
    },
    {
      "cell_type": "markdown",
      "id": "5ad1524c",
      "metadata": {},
      "source": [
        "The logical error is with the if statement. Becuase the initial guess is lower then every value of the array the min_value will never update."
      ]
    },
    {
      "cell_type": "markdown",
      "id": "c7c9ce79-f19b-46b2-b39d-e2b0a0436382",
      "metadata": {},
      "source": [
        "#### Problem 1.2 (3 points)\n",
        "\n",
        "Write a fixed version of the function."
      ]
    },
    {
      "cell_type": "code",
      "execution_count": 6,
      "id": "9b8b003d",
      "metadata": {},
      "outputs": [
        {
          "name": "stdout",
          "output_type": "stream",
          "text": [
            "minimum(array_values) = 78\n"
          ]
        }
      ],
      "source": [
        "function minimum(array)\n",
        "    min_value = array[1]\n",
        "    for i in 1:length(array)\n",
        "        if array[i] < min_value\n",
        "            min_value = array[i]\n",
        "        end\n",
        "    end\n",
        "    return min_value\n",
        "end\n",
        "\n",
        "array_values = [89, 90, 95, 100, 100, 78, 99, 98, 100, 95]\n",
        "@show minimum(array_values);"
      ]
    },
    {
      "cell_type": "markdown",
      "id": "14475aa8-c6c9-42d2-b466-c5b79bfe573f",
      "metadata": {},
      "source": [
        "#### Problem 1.3 (2 points)\n",
        "\n",
        "Use your fixed function to find the minimum value of `array_values`."
      ]
    },
    {
      "cell_type": "code",
      "execution_count": 8,
      "id": "e4250025",
      "metadata": {},
      "outputs": [
        {
          "name": "stdout",
          "output_type": "stream",
          "text": [
            "minimum(array_values) = 78\n"
          ]
        }
      ],
      "source": [
        "function minimum(array)\n",
        "    min_value = array[1]\n",
        "    for i in 1:length(array)\n",
        "        if array[i] < min_value\n",
        "            min_value = array[i]\n",
        "        end\n",
        "    end\n",
        "    return min_value\n",
        "end\n",
        "\n",
        "array_values = [89, 90, 95, 100, 100, 78, 99, 98, 100, 95]\n",
        "@show minimum(array_values);"
      ]
    },
    {
      "cell_type": "markdown",
      "id": "fd84832f-0433-4fc8-a482-7ab511867600",
      "metadata": {},
      "source": [
        "### Problem 2 (8 points)\n",
        "\n",
        "Your team is trying to compute the average grade for your class, but the\n",
        "following code produces an error."
      ]
    },
    {
      "cell_type": "code",
      "execution_count": 23,
      "id": "36714246",
      "metadata": {},
      "outputs": [
        {
          "ename": "UndefVarError",
          "evalue": "UndefVarError: `average_grade` not defined",
          "output_type": "error",
          "traceback": [
            "UndefVarError: `average_grade` not defined\n",
            "\n",
            "Stacktrace:\n",
            " [1] top-level scope\n",
            "   @ show.jl:1128"
          ]
        }
      ],
      "source": [
        "student_grades = [89, 90, 95, 100, 100, 78, 99, 98, 100, 95]\n",
        "function class_average(grades)\n",
        "  average_grade = mean(student_grades)\n",
        "  return average_grade\n",
        "end\n",
        "\n",
        "@show average_grade;"
      ]
    },
    {
      "cell_type": "markdown",
      "id": "ba02fd73-5b77-4ec7-90a8-8f5cd74f42da",
      "metadata": {},
      "source": [
        "#### Problem 2.1 (3 points)\n",
        "\n",
        "Describe the logic and/or syntax error."
      ]
    },
    {
      "cell_type": "markdown",
      "id": "0f1c20df",
      "metadata": {},
      "source": [
        "The is a syntax error. They called a fucntion and by doing that they changed the name of the array. They never actually called the function, and therfore it was not running properly"
      ]
    },
    {
      "cell_type": "markdown",
      "id": "d822c65a-6301-4fd0-acd2-4b014470d39d",
      "metadata": {},
      "source": [
        "#### Problem 2.2 (3 points)\n",
        "\n",
        "Write a fixed version of the code."
      ]
    },
    {
      "cell_type": "code",
      "execution_count": 25,
      "id": "401421f3",
      "metadata": {},
      "outputs": [
        {
          "name": "stdout",
          "output_type": "stream",
          "text": [
            "average_grade = 94.4\n"
          ]
        }
      ],
      "source": [
        "student_grades = [89, 90, 95, 100, 100, 78, 99, 98, 100, 95]\n",
        "\n",
        "function class_average(grades)\n",
        "  average_grade = mean(grades)\n",
        "  return average_grade\n",
        "end\n",
        "average_grade = class_average(student_grades)\n",
        "@show average_grade;"
      ]
    },
    {
      "cell_type": "markdown",
      "id": "5bbec364-3b5a-4515-b6fe-c4dc2b7efe5e",
      "metadata": {},
      "source": [
        "#### Problem 2.3 (2 points)\n",
        "\n",
        "Use your fixed code to compute the average grade for the class."
      ]
    },
    {
      "cell_type": "code",
      "execution_count": 26,
      "id": "862fa883",
      "metadata": {},
      "outputs": [
        {
          "name": "stdout",
          "output_type": "stream",
          "text": [
            "average_grade = 94.4\n"
          ]
        }
      ],
      "source": [
        "student_grades = [89, 90, 95, 100, 100, 78, 99, 98, 100, 95]\n",
        "\n",
        "function class_average(grades)\n",
        "  average_grade = mean(grades)\n",
        "  return average_grade\n",
        "end\n",
        "average_grade = class_average(student_grades)\n",
        "@show average_grade;"
      ]
    },
    {
      "cell_type": "markdown",
      "id": "13b8758e-bf6b-4f57-b568-33f9d76cabf7",
      "metadata": {},
      "source": [
        "### Problem 3 (8 points)\n",
        "\n",
        "You’ve been handed some code to analyze. The original coder was not very\n",
        "considerate of other potential users: the function is called\n",
        "`mystery_function` and there are no comments explaining the purpose of\n",
        "the code. It appears to take in an array and return some numbers, and\n",
        "you’ve been assured that the code works as intended."
      ]
    },
    {
      "cell_type": "code",
      "execution_count": 27,
      "id": "653a98f2",
      "metadata": {},
      "outputs": [
        {
          "name": "stdout",
          "output_type": "stream",
          "text": [
            "mystery_function(list_of_values) = Any[1, 2, 3, 4]\n"
          ]
        }
      ],
      "source": [
        "function mystery_function(values)\n",
        "    y = []   #Define empty array\n",
        "    for v in values    #loop of legnth v\n",
        "        if !(v in y)     # checks if v is in y, if it is not then it exictues the if loop\n",
        "            append!(y, v)    #add v to y\n",
        "        end\n",
        "    end\n",
        "    return y\n",
        "end\n",
        "\n",
        "list_of_values = [1, 2, 3, 4, 3, 4, 2, 1]   \n",
        "@show mystery_function(list_of_values);"
      ]
    },
    {
      "cell_type": "markdown",
      "id": "91407baf-4e78-4e7e-b484-9303aa110062",
      "metadata": {},
      "source": [
        "#### Problem 3.1 (4 points)\n",
        "\n",
        "Explain the purpose of `mystery_function`."
      ]
    },
    {
      "cell_type": "markdown",
      "id": "d2110959",
      "metadata": {},
      "source": [
        "The purpose of this function is to remove duplicate numbers from the array."
      ]
    },
    {
      "cell_type": "markdown",
      "id": "4322b0f0-f1aa-4a90-ad5a-66935f8c39b6",
      "metadata": {},
      "source": [
        "#### Problem 3.2 (4 points)\n",
        "\n",
        "Add comments to the code, explaining why and how it works. Refer to\n",
        "[“Best Practices for Writing Code\n",
        "Comments”](https://stackoverflow.blog/2021/12/23/best-practices-for-writing-code-comments/),\n",
        "and remember that bad comments can be just as bad as no comments at all.\n",
        "You do not need to add comments to every line (in fact, this is very bad\n",
        "practice), but you should note the *purpose* of every “section” of code,\n",
        "and add comments explaining any code sequences that you don’t\n",
        "immediately understand."
      ]
    },
    {
      "cell_type": "markdown",
      "id": "49265def-1371-4d64-85af-cf27f9eaea9b",
      "metadata": {},
      "source": [
        "### Problem 4 (16 points)\n",
        "\n",
        "Cheap Plastic Products, Inc. is operating a plant that produces\n",
        "$100 \\text{m}^3\\text{/day}$ of wastewater that is discharged into\n",
        "Pristine Brook. The wastewater contains $1 \\text{kg/m}^3$ of YUK, a\n",
        "toxic substance. The US Environmental Protection Agency has imposed an\n",
        "effluent standard on the plant prohibiting discharge of more than\n",
        "$20 \\text{kg/day}$ of YUK into Pristine Brook.\n",
        "\n",
        "Cheap Plastic Products has analyzed two methods for reducing its\n",
        "discharges of YUK. Method 1 is land disposal, which costs $X_1^2/20$\n",
        "dollars per day, where $X_1$ is the amount of wastewater disposed of on\n",
        "the land ($\\text{m}^3\\text{/day}$). With this method, 20% of the YUK\n",
        "applied to the land will eventually drain into the stream (*i.e.*, 80%\n",
        "of the YUK is removed by the soil).\n",
        "\n",
        "Method 2 is a chemical treatment procedure which costs \\$1.50 per\n",
        "$\\text{m}^3$ of wastewater treated. The chemical treatment has an\n",
        "efficiency of $e= 1 - 0.005X_2$, where $X_2$ is the quantity of\n",
        "wastewater ($\\text{m}^3\\text{/day}$) treated. For example, if\n",
        "$X_2 = 50 \\text{m}^3\\text{/day}$, then $e = 1 - 0.005(50) = 0.75$, so\n",
        "that 75% of the YUK is removed.\n",
        "\n",
        "Cheap Plastic Products is wondering how to allocate their wastewater\n",
        "between these three disposal and treatment methods (land disposal, and\n",
        "chemical treatment, and land disposal) to meet the effluent standard\n",
        "while keeping costs manageable."
      ]
    },
    {
      "cell_type": "markdown",
      "id": "e7554ceb-cc9c-498d-87f6-7704fd6e2ae4",
      "metadata": {},
      "source": [
        "#### Problem 4.1 (3 points)\n",
        "\n",
        "The flow of wastewater through this treatment system is shown in\n",
        "<a href=\"#fig-wastewater\" class=\"quarto-xref\">Figure 1</a>. Modify the\n",
        "edge labels (by editing the `edge_labels` dictionary in the code\n",
        "producing <a href=\"#fig-wastewater\" class=\"quarto-xref\">Figure 1</a>) to\n",
        "show how the wastewater allocations result in the final YUK discharge\n",
        "into Pristine Brook. For the `edge_label` dictionary, the tuple $(i, j)$\n",
        "corresponds to the arrow going from node $i$ to node $j$. The syntax for\n",
        "any entry is `(i, j) => \"label text\"`, and the label text can include\n",
        "mathematical notation if the string is prefaced with an `L`, as in\n",
        "`L\"x_1\"` will produce $x_1$."
      ]
    },
    {
      "cell_type": "markdown",
      "id": "d24d4d37",
      "metadata": {},
      "source": [
        "Notes\n",
        "\n",
        "100m^3/day waste water produced\n",
        "1kg/m^3 YUK\n",
        "20kg/day max level\n",
        "Method 1\n",
        "Cost: X^2/20, where X is the amount of water disposed of in m^3/day\n",
        "Efficiency: 80% effeceint, 20% ends up in steam. \n",
        "Which means that if you send all of the water through the land land path. Once you get over about 5.5 it becomes more expensive to do land then chemical \n",
        "Method 2\n",
        "Cost: 1.5 per m^3\n",
        "Effeciency: e = 1-.005*X, the more you want to do the less efficient it becomes"
      ]
    },
    {
      "cell_type": "code",
      "execution_count": 33,
      "id": "cell-fig-wastewater",
      "metadata": {},
      "outputs": [
        {
          "data": {
            "image/png": "[encoded data removed]",
            "image/svg+xml": [
              "<?xml version=\"1.0\" encoding=\"utf-8\"?>\n",
              "<svg xmlns=\"http://www.w3.org/2000/svg\" xmlns:xlink=\"http://www.w3.org/1999/xlink\" width=\"600\" height=\"400\" viewBox=\"0 0 2400 1600\">\n",
              "<defs>\n",
              "  <clipPath id=\"clip900\">\n",
              "    <rect x=\"0\" y=\"0\" width=\"2400\" height=\"1600\"/>\n",
              "  </clipPath>\n",
              "</defs>\n",
              "<path clip-path=\"url(#clip900)\" d=\"M0 1600 L2400 1600 L2400 0 L0 0  Z\" fill=\"#ffffff\" fill-rule=\"evenodd\" fill-opacity=\"1\"/>\n",
              "<defs>\n",
              "  <clipPath id=\"clip901\">\n",
              "    <rect x=\"480\" y=\"0\" width=\"1681\" height=\"1600\"/>\n",
              "  </clipPath>\n",
              "</defs>\n",
              "<path clip-path=\"url(#clip900)\" d=\"M259.055 1552.76 L2140.94 1552.76 L2140.94 47.2441 L259.055 47.2441  Z\" fill=\"#ffffff\" fill-rule=\"evenodd\" fill-opacity=\"1\"/>\n",
              "<defs>\n",
              "  <clipPath id=\"clip902\">\n",
              "    <rect x=\"259\" y=\"47\" width=\"1883\" height=\"1507\"/>\n",
              "  </clipPath>\n",
              "</defs>\n",
              "<polyline clip-path=\"url(#clip902)\" style=\"stroke:#000000; stroke-linecap:round; stroke-linejoin:round; stroke-width:4; stroke-opacity:1; fill:none\" points=\"1334.42,262.317 1318.22,275.046 1302.02,287.766 1285.83,300.469 1269.64,313.146 1253.48,325.79 1237.33,338.392 1221.2,350.944 1205.09,363.436 1189.02,375.861 1172.97,388.21 1156.96,400.474 1140.99,412.646 1125.07,424.716 1109.18,436.677 1093.35,448.52 1077.57,460.237 1061.85,471.818 1046.18,483.256 1030.58,494.543 1015.05,505.669 999.586,516.626 984.197,527.407 968.885,538.002 953.655,548.402 938.509,558.601 923.447,568.598 908.467,578.401 893.564,588.018 878.735,597.459 863.976,606.73 849.284,615.842 834.656,624.801 820.088,633.617 805.576,642.299 791.117,650.853 776.707,659.29 762.343,667.617 748.021,675.843 733.738,683.976 719.49,692.025 705.274,699.998 691.087,707.903 676.923,715.75 662.781,723.546 648.657,731.299 634.547,739.019 620.447,746.714 606.354,754.392 592.265,762.061 \"/>\n",
              "<polyline clip-path=\"url(#clip902)\" style=\"stroke:#000000; stroke-linecap:round; stroke-linejoin:round; stroke-width:4; stroke-opacity:1; fill:none\" points=\"632.49,760.659 592.265,762.061 615.278,729.04 \"/>\n",
              "<polyline clip-path=\"url(#clip902)\" style=\"stroke:#000000; stroke-linecap:round; stroke-linejoin:round; stroke-width:4; stroke-opacity:1; fill:none\" points=\"592.265,762.061 606.354,754.392 \"/>\n",
              "<polyline clip-path=\"url(#clip902)\" style=\"stroke:#000000; stroke-linecap:round; stroke-linejoin:round; stroke-width:4; stroke-opacity:1; fill:none\" points=\"1334.42,262.317 1333.14,274.076 1331.85,285.829 1330.55,297.572 1329.24,309.3 1327.92,321.006 1326.57,332.687 1325.21,344.336 1323.81,355.949 1322.38,367.521 1320.92,379.045 1319.42,390.518 1317.88,401.933 1316.28,413.286 1314.64,424.572 1312.94,435.784 1311.18,446.919 1309.36,457.97 1307.47,468.933 1305.51,479.803 1303.48,490.573 1301.37,501.24 1299.17,511.797 1296.89,522.24 1294.51,532.564 1292.05,542.763 1289.48,552.837 1286.83,562.792 1284.09,572.632 1281.27,582.363 1278.37,591.99 1275.39,601.518 1272.34,610.953 1269.23,620.299 1266.05,629.562 1262.81,638.747 1259.52,647.86 1256.18,656.904 1252.79,665.887 1249.35,674.812 1245.88,683.685 1242.37,692.511 1238.83,701.296 1235.26,710.044 1231.67,718.762 1228.06,727.453 1224.43,736.123 1220.79,744.778 1217.14,753.422 1213.49,762.061 \"/>\n",
              "<polyline clip-path=\"url(#clip902)\" style=\"stroke:#000000; stroke-linecap:round; stroke-linejoin:round; stroke-width:4; stroke-opacity:1; fill:none\" points=\"1244.09,735.908 1213.49,762.061 1210.93,721.894 \"/>\n",
              "<polyline clip-path=\"url(#clip902)\" style=\"stroke:#000000; stroke-linecap:round; stroke-linejoin:round; stroke-width:4; stroke-opacity:1; fill:none\" points=\"1213.49,762.061 1217.14,753.422 \"/>\n",
              "<polyline clip-path=\"url(#clip902)\" style=\"stroke:#000000; stroke-linecap:round; stroke-linejoin:round; stroke-width:4; stroke-opacity:1; fill:none\" points=\"1334.42,262.317 1344.89,286.727 1355.34,311.117 1365.79,335.467 1376.23,359.758 1386.65,383.97 1397.04,408.083 1407.41,432.078 1417.74,455.935 1428.03,479.633 1438.28,503.154 1448.49,526.477 1458.64,549.583 1468.73,572.452 1478.77,595.064 1488.74,617.4 1498.63,639.44 1508.45,661.163 1518.19,682.551 1527.85,703.583 1537.41,724.24 1546.88,744.502 1556.25,764.349 1565.52,783.762 1574.68,802.72 1583.72,821.205 1592.66,839.218 1601.48,856.775 1610.2,873.899 1618.82,890.607 1627.34,906.921 1635.77,922.859 1644.12,938.442 1652.39,953.689 1660.58,968.62 1668.71,983.254 1676.76,997.613 1684.76,1011.71 1692.69,1025.58 1700.58,1039.23 1708.42,1052.68 1716.21,1065.95 1723.97,1079.06 1731.7,1092.04 1739.39,1104.89 1747.06,1117.65 1754.72,1130.33 1762.36,1142.95 1769.99,1155.53 1777.61,1168.09 \"/>\n",
              "<polyline clip-path=\"url(#clip902)\" style=\"stroke:#000000; stroke-linecap:round; stroke-linejoin:round; stroke-width:4; stroke-opacity:1; fill:none\" points=\"1774.32,1127.98 1777.61,1168.09 1743.54,1146.66 \"/>\n",
              "<polyline clip-path=\"url(#clip902)\" style=\"stroke:#000000; stroke-linecap:round; stroke-linejoin:round; stroke-width:4; stroke-opacity:1; fill:none\" points=\"1777.61,1168.09 1769.99,1155.53 \"/>\n",
              "<polyline clip-path=\"url(#clip902)\" style=\"stroke:#000000; stroke-linecap:round; stroke-linejoin:round; stroke-width:4; stroke-opacity:1; fill:none\" points=\"527.897,800 556.372,813.092 584.833,826.172 613.265,839.231 641.653,852.257 669.983,865.238 698.241,878.165 726.411,891.025 754.48,903.809 782.433,916.504 810.255,929.1 837.931,941.587 865.449,953.951 892.791,966.184 919.946,978.274 946.896,990.209 973.629,1001.98 1000.13,1013.57 1026.38,1024.98 1052.38,1036.19 1078.09,1047.19 1103.52,1057.97 1128.64,1068.52 1153.44,1078.82 1177.91,1088.87 1202.03,1098.66 1225.8,1108.19 1249.24,1117.46 1272.36,1126.49 1295.18,1135.29 1317.7,1143.87 1339.95,1152.23 1361.93,1160.4 1383.67,1168.39 1405.18,1176.19 1426.47,1183.84 1447.56,1191.32 1468.45,1198.67 1489.18,1205.88 1509.74,1212.97 1530.16,1219.95 1550.45,1226.84 1570.62,1233.63 1590.69,1240.35 1610.67,1247 1630.58,1253.59 1650.43,1260.15 1670.24,1266.66 1690.02,1273.16 1709.79,1279.65 \"/>\n",
              "<polyline clip-path=\"url(#clip902)\" style=\"stroke:#000000; stroke-linecap:round; stroke-linejoin:round; stroke-width:4; stroke-opacity:1; fill:none\" points=\"1681.19,1251.32 1709.79,1279.65 1669.97,1285.52 \"/>\n",
              "<polyline clip-path=\"url(#clip902)\" style=\"stroke:#000000; stroke-linecap:round; stroke-linejoin:round; stroke-width:4; stroke-opacity:1; fill:none\" points=\"1709.79,1279.65 1690.02,1273.16 \"/>\n",
              "<polyline clip-path=\"url(#clip902)\" style=\"stroke:#000000; stroke-linecap:round; stroke-linejoin:round; stroke-width:4; stroke-opacity:1; fill:none\" points=\"1200,800 1214.11,813.255 1228.21,826.495 1242.28,839.707 1256.32,852.876 1270.32,865.988 1284.27,879.029 1298.15,891.984 1311.96,904.839 1325.68,917.58 1339.3,930.193 1352.82,942.663 1366.21,954.976 1379.48,967.118 1392.61,979.075 1405.58,990.831 1418.39,1002.37 1431.04,1013.69 1443.49,1024.76 1455.76,1035.58 1467.82,1046.12 1479.66,1056.38 1491.28,1066.34 1502.66,1075.99 1513.79,1085.3 1524.66,1094.28 1535.28,1102.91 1545.64,1111.22 1555.77,1119.21 1565.67,1126.9 1575.36,1134.31 1584.84,1141.45 1594.13,1148.33 1603.24,1154.96 1612.17,1161.37 1620.94,1167.57 1629.56,1173.56 1638.04,1179.37 1646.39,1185.01 1654.62,1190.49 1662.74,1195.83 1670.77,1201.04 1678.71,1206.14 1686.57,1211.14 1694.37,1216.05 1702.12,1220.89 1709.82,1225.67 1717.49,1230.41 1725.14,1235.12 1732.78,1239.82 \"/>\n",
              "<polyline clip-path=\"url(#clip902)\" style=\"stroke:#000000; stroke-linecap:round; stroke-linejoin:round; stroke-width:4; stroke-opacity:1; fill:none\" points=\"1711.54,1205.63 1732.78,1239.82 1692.69,1236.29 \"/>\n",
              "<polyline clip-path=\"url(#clip902)\" style=\"stroke:#000000; stroke-linecap:round; stroke-linejoin:round; stroke-width:4; stroke-opacity:1; fill:none\" points=\"1732.78,1239.82 1725.14,1235.12 \"/>\n",
              "<path clip-path=\"url(#clip902)\" d=\"M905.153 571.594 L986.99 571.594 L986.99 535.461 L905.153 535.461 L905.153 571.594 L905.153 571.594  Z\" fill=\"#ffffff\" fill-rule=\"evenodd\" fill-opacity=\"1\"/>\n",
              "<polyline clip-path=\"url(#clip902)\" style=\"stroke:#000000; stroke-linecap:round; stroke-linejoin:round; stroke-width:0; stroke-opacity:0; fill:none\" points=\"905.153,571.594 986.99,571.594 986.99,535.461 905.153,535.461 905.153,571.594 \"/>\n",
              "<path clip-path=\"url(#clip902)\" d=\"M1293.29 555.745 L1293.29 555.745 L1293.29 519.613 L1293.29 519.613 L1293.29 555.745 L1293.29 555.745  Z\" fill=\"#ffffff\" fill-rule=\"evenodd\" fill-opacity=\"1\"/>\n",
              "<polyline clip-path=\"url(#clip902)\" style=\"stroke:#000000; stroke-linecap:round; stroke-linejoin:round; stroke-width:0; stroke-opacity:0; fill:none\" points=\"1293.29,555.745 1293.29,555.745 1293.29,519.613 1293.29,555.745 \"/>\n",
              "<path clip-path=\"url(#clip902)\" d=\"M1579.22 830.089 L1579.22 830.089 L1579.22 793.957 L1579.22 793.957 L1579.22 830.089 L1579.22 830.089  Z\" fill=\"#ffffff\" fill-rule=\"evenodd\" fill-opacity=\"1\"/>\n",
              "<polyline clip-path=\"url(#clip902)\" style=\"stroke:#000000; stroke-linecap:round; stroke-linejoin:round; stroke-width:0; stroke-opacity:0; fill:none\" points=\"1579.22,830.089 1579.22,830.089 1579.22,793.957 1579.22,830.089 \"/>\n",
              "<path clip-path=\"url(#clip902)\" d=\"M1190.02 1111.87 L1190.02 1111.87 L1190.02 1075.74 L1190.02 1075.74 L1190.02 1111.87 L1190.02 1111.87  Z\" fill=\"#ffffff\" fill-rule=\"evenodd\" fill-opacity=\"1\"/>\n",
              "<polyline clip-path=\"url(#clip902)\" style=\"stroke:#000000; stroke-linecap:round; stroke-linejoin:round; stroke-width:0; stroke-opacity:0; fill:none\" points=\"1190.02,1111.87 1190.02,1111.87 1190.02,1075.74 1190.02,1111.87 \"/>\n",
              "<path clip-path=\"url(#clip902)\" d=\"M1519.26 1107.9 L1519.26 1107.9 L1519.26 1071.77 L1519.26 1071.77 L1519.26 1107.9 L1519.26 1107.9  Z\" fill=\"#ffffff\" fill-rule=\"evenodd\" fill-opacity=\"1\"/>\n",
              "<polyline clip-path=\"url(#clip902)\" style=\"stroke:#000000; stroke-linecap:round; stroke-linejoin:round; stroke-width:0; stroke-opacity:0; fill:none\" points=\"1519.26,1107.9 1519.26,1107.9 1519.26,1071.77 1519.26,1107.9 \"/>\n",
              "<path clip-path=\"url(#clip902)\" d=\"M1420.35 262.317 L1377.39 187.9 L1291.46 187.9 L1248.49 262.317 L1291.46 336.734 L1377.39 336.734 L1420.35 262.317 L1420.35 262.317  Z\" fill=\"#ffffff\" fill-rule=\"evenodd\" fill-opacity=\"1\"/>\n",
              "<polyline clip-path=\"url(#clip902)\" style=\"stroke:#000000; stroke-linecap:round; stroke-linejoin:round; stroke-width:4; stroke-opacity:1; fill:none\" points=\"1420.35,262.317 1377.39,187.9 1291.46,187.9 1248.49,262.317 1291.46,336.734 1377.39,336.734 1420.35,262.317 \"/>\n",
              "<path clip-path=\"url(#clip902)\" d=\"M332.072 837.939 L723.721 837.939 L723.721 762.061 L332.072 762.061 L332.072 837.939 L332.072 837.939  Z\" fill=\"#ffffff\" fill-rule=\"evenodd\" fill-opacity=\"1\"/>\n",
              "<polyline clip-path=\"url(#clip902)\" style=\"stroke:#000000; stroke-linecap:round; stroke-linejoin:round; stroke-width:4; stroke-opacity:1; fill:none\" points=\"332.072,837.939 723.721,837.939 723.721,762.061 332.072,762.061 332.072,837.939 \"/>\n",
              "<path clip-path=\"url(#clip902)\" d=\"M1004.18 837.939 L1395.82 837.939 L1395.82 762.061 L1004.18 762.061 L1004.18 837.939 L1004.18 837.939  Z\" fill=\"#ffffff\" fill-rule=\"evenodd\" fill-opacity=\"1\"/>\n",
              "<polyline clip-path=\"url(#clip902)\" style=\"stroke:#000000; stroke-linecap:round; stroke-linejoin:round; stroke-width:4; stroke-opacity:1; fill:none\" points=\"1004.18,837.939 1395.82,837.939 1395.82,762.061 1004.18,762.061 1004.18,837.939 \"/>\n",
              "<path clip-path=\"url(#clip902)\" d=\"M2067.93 1337.68 L1970.02 1168.09 L1774.19 1168.09 L1676.28 1337.68 L1774.19 1507.27 L1970.02 1507.27 L2067.93 1337.68 L2067.93 1337.68  Z\" fill=\"#ffffff\" fill-rule=\"evenodd\" fill-opacity=\"1\"/>\n",
              "<polyline clip-path=\"url(#clip902)\" style=\"stroke:#000000; stroke-linecap:round; stroke-linejoin:round; stroke-width:4; stroke-opacity:1; fill:none\" points=\"2067.93,1337.68 1970.02,1168.09 1774.19,1168.09 1676.28,1337.68 1774.19,1507.27 1970.02,1507.27 2067.93,1337.68 \"/>\n",
              "<path clip-path=\"url(#clip902)\" d=\"M1333.82 261.717 L1333.82 262.917 L1335.02 262.917 L1335.02 261.717 L1333.82 261.717 Z\" fill=\"#ffffff\" fill-rule=\"evenodd\" fill-opacity=\"1\" stroke=\"#000000\" stroke-opacity=\"1\" stroke-width=\"3.2\"/>\n",
              "<path clip-path=\"url(#clip902)\" d=\"M527.297 799.4 L527.297 800.6 L528.497 800.6 L528.497 799.4 L527.297 799.4 Z\" fill=\"#ffffff\" fill-rule=\"evenodd\" fill-opacity=\"1\" stroke=\"#000000\" stroke-opacity=\"1\" stroke-width=\"3.2\"/>\n",
              "<path clip-path=\"url(#clip902)\" d=\"M1199.4 799.4 L1199.4 800.6 L1200.6 800.6 L1200.6 799.4 L1199.4 799.4 Z\" fill=\"#ffffff\" fill-rule=\"evenodd\" fill-opacity=\"1\" stroke=\"#000000\" stroke-opacity=\"1\" stroke-width=\"3.2\"/>\n",
              "<path clip-path=\"url(#clip902)\" d=\"M1871.5 1337.08 L1871.5 1338.28 L1872.7 1338.28 L1872.7 1337.08 L1871.5 1337.08 Z\" fill=\"#ffffff\" fill-rule=\"evenodd\" fill-opacity=\"1\" stroke=\"#000000\" stroke-opacity=\"1\" stroke-width=\"3.2\"/>\n",
              "<path clip-path=\"url(#clip900)\" d=\"M896.67 538.408 L900.762 538.408 L900.762 550.803 L915.629 550.803 L915.629 538.408 L919.72 538.408 L919.72 568.648 L915.629 568.648 L915.629 554.247 L900.762 554.247 L900.762 568.648 L896.67 568.648 L896.67 538.408 Z\" fill=\"#000000\" fill-rule=\"nonzero\" fill-opacity=\"1\" /><path clip-path=\"url(#clip900)\" d=\"M947.104 556.373 L947.104 558.196 L929.969 558.196 Q930.212 562.045 932.278 564.07 Q934.364 566.075 938.071 566.075 Q940.218 566.075 942.223 565.549 Q944.248 565.022 946.233 563.969 L946.233 567.493 Q944.228 568.344 942.122 568.789 Q940.015 569.235 937.848 569.235 Q932.42 569.235 929.24 566.075 Q926.08 562.916 926.08 557.528 Q926.08 551.958 929.078 548.697 Q932.096 545.416 937.2 545.416 Q941.777 545.416 944.431 548.373 Q947.104 551.31 947.104 556.373 M943.377 555.28 Q943.337 552.221 941.656 550.398 Q939.995 548.575 937.24 548.575 Q934.121 548.575 932.237 550.337 Q930.374 552.1 930.09 555.3 L943.377 555.28 Z\" fill=\"#000000\" fill-rule=\"nonzero\" fill-opacity=\"1\" /><path clip-path=\"url(#clip900)\" d=\"M953.221 537.132 L956.948 537.132 L956.948 568.648 L953.221 568.648 L953.221 537.132 Z\" fill=\"#000000\" fill-rule=\"nonzero\" fill-opacity=\"1\" /><path clip-path=\"url(#clip900)\" d=\"M964.746 537.132 L968.473 537.132 L968.473 568.648 L964.746 568.648 L964.746 537.132 Z\" fill=\"#000000\" fill-rule=\"nonzero\" fill-opacity=\"1\" /><path clip-path=\"url(#clip900)\" d=\"M985.061 548.575 Q982.064 548.575 980.322 550.925 Q978.58 553.254 978.58 557.325 Q978.58 561.396 980.301 563.746 Q982.043 566.075 985.061 566.075 Q988.039 566.075 989.78 563.726 Q991.522 561.376 991.522 557.325 Q991.522 553.295 989.78 550.945 Q988.039 548.575 985.061 548.575 M985.061 545.416 Q989.922 545.416 992.697 548.575 Q995.472 551.735 995.472 557.325 Q995.472 562.895 992.697 566.075 Q989.922 569.235 985.061 569.235 Q980.18 569.235 977.405 566.075 Q974.65 562.895 974.65 557.325 Q974.65 551.735 977.405 548.575 Q980.18 545.416 985.061 545.416 Z\" fill=\"#000000\" fill-rule=\"nonzero\" fill-opacity=\"1\" /><path clip-path=\"url(#clip900)\" d=\"M1288.79 250.559 L1288.79 261.922 L1293.93 261.922 Q1296.79 261.922 1298.35 260.444 Q1299.91 258.965 1299.91 256.231 Q1299.91 253.517 1298.35 252.038 Q1296.79 250.559 1293.93 250.559 L1288.79 250.559 M1284.7 247.197 L1293.93 247.197 Q1299.02 247.197 1301.61 249.506 Q1304.22 251.795 1304.22 256.231 Q1304.22 260.707 1301.61 262.996 Q1299.02 265.284 1293.93 265.284 L1288.79 265.284 L1288.79 277.437 L1284.7 277.437 L1284.7 247.197 Z\" fill=\"#000000\" fill-rule=\"nonzero\" fill-opacity=\"1\" /><path clip-path=\"url(#clip900)\" d=\"M1309.55 245.921 L1313.27 245.921 L1313.27 277.437 L1309.55 277.437 L1309.55 245.921 Z\" fill=\"#000000\" fill-rule=\"nonzero\" fill-opacity=\"1\" /><path clip-path=\"url(#clip900)\" d=\"M1331.38 266.034 Q1326.87 266.034 1325.12 267.067 Q1323.38 268.1 1323.38 270.591 Q1323.38 272.576 1324.68 273.751 Q1325.99 274.905 1328.24 274.905 Q1331.34 274.905 1333.21 272.718 Q1335.09 270.51 1335.09 266.864 L1335.09 266.034 L1331.38 266.034 M1338.82 264.495 L1338.82 277.437 L1335.09 277.437 L1335.09 273.994 Q1333.81 276.06 1331.91 277.052 Q1330.01 278.025 1327.25 278.025 Q1323.77 278.025 1321.7 276.08 Q1319.66 274.115 1319.66 270.834 Q1319.66 267.006 1322.21 265.062 Q1324.78 263.117 1329.86 263.117 L1335.09 263.117 L1335.09 262.753 Q1335.09 260.18 1333.39 258.783 Q1331.71 257.365 1328.65 257.365 Q1326.7 257.365 1324.86 257.831 Q1323.02 258.297 1321.32 259.228 L1321.32 255.785 Q1323.36 254.995 1325.29 254.61 Q1327.21 254.205 1329.03 254.205 Q1333.95 254.205 1336.39 256.757 Q1338.82 259.309 1338.82 264.495 Z\" fill=\"#000000\" fill-rule=\"nonzero\" fill-opacity=\"1\" /><path clip-path=\"url(#clip900)\" d=\"M1365.35 263.745 L1365.35 277.437 L1361.62 277.437 L1361.62 263.867 Q1361.62 260.646 1360.37 259.046 Q1359.11 257.446 1356.6 257.446 Q1353.58 257.446 1351.84 259.37 Q1350.1 261.294 1350.1 264.616 L1350.1 277.437 L1346.35 277.437 L1346.35 254.752 L1350.1 254.752 L1350.1 258.276 Q1351.43 256.231 1353.24 255.218 Q1355.06 254.205 1357.43 254.205 Q1361.34 254.205 1363.34 256.636 Q1365.35 259.046 1365.35 263.745 Z\" fill=\"#000000\" fill-rule=\"nonzero\" fill-opacity=\"1\" /><path clip-path=\"url(#clip900)\" d=\"M1376.47 248.311 L1376.47 254.752 L1384.15 254.752 L1384.15 257.649 L1376.47 257.649 L1376.47 269.963 Q1376.47 272.738 1377.22 273.528 Q1377.99 274.318 1380.32 274.318 L1384.15 274.318 L1384.15 277.437 L1380.32 277.437 Q1376 277.437 1374.36 275.837 Q1372.72 274.217 1372.72 269.963 L1372.72 257.649 L1369.99 257.649 L1369.99 254.752 L1372.72 254.752 L1372.72 248.311 L1376.47 248.311 Z\" fill=\"#000000\" fill-rule=\"nonzero\" fill-opacity=\"1\" /><path clip-path=\"url(#clip900)\" d=\"M367.724 784.88 L371.815 784.88 L371.815 811.677 L386.54 811.677 L386.54 815.12 L367.724 815.12 L367.724 784.88 Z\" fill=\"#000000\" fill-rule=\"nonzero\" fill-opacity=\"1\" /><path clip-path=\"url(#clip900)\" d=\"M400.982 803.717 Q396.465 803.717 394.723 804.75 Q392.981 805.783 392.981 808.274 Q392.981 810.259 394.277 811.434 Q395.594 812.588 397.842 812.588 Q400.941 812.588 402.805 810.401 Q404.688 808.193 404.688 804.547 L404.688 803.717 L400.982 803.717 M408.415 802.177 L408.415 815.12 L404.688 815.12 L404.688 811.677 Q403.412 813.743 401.508 814.735 Q399.604 815.707 396.85 815.707 Q393.366 815.707 391.3 813.763 Q389.254 811.798 389.254 808.517 Q389.254 804.689 391.806 802.744 Q394.379 800.8 399.463 800.8 L404.688 800.8 L404.688 800.435 Q404.688 797.863 402.987 796.466 Q401.306 795.048 398.247 795.048 Q396.303 795.048 394.46 795.514 Q392.617 795.979 390.915 796.911 L390.915 793.468 Q392.961 792.678 394.885 792.293 Q396.809 791.888 398.632 791.888 Q403.554 791.888 405.985 794.44 Q408.415 796.992 408.415 802.177 Z\" fill=\"#000000\" fill-rule=\"nonzero\" fill-opacity=\"1\" /><path clip-path=\"url(#clip900)\" d=\"M434.949 801.428 L434.949 815.12 L431.222 815.12 L431.222 801.549 Q431.222 798.329 429.966 796.729 Q428.71 795.129 426.199 795.129 Q423.181 795.129 421.439 797.053 Q419.697 798.977 419.697 802.299 L419.697 815.12 L415.95 815.12 L415.95 792.435 L419.697 792.435 L419.697 795.959 Q421.034 793.914 422.836 792.901 Q424.659 791.888 427.029 791.888 Q430.938 791.888 432.943 794.319 Q434.949 796.729 434.949 801.428 Z\" fill=\"#000000\" fill-rule=\"nonzero\" fill-opacity=\"1\" /><path clip-path=\"url(#clip900)\" d=\"M457.31 795.878 L457.31 783.604 L461.036 783.604 L461.036 815.12 L457.31 815.12 L457.31 811.717 Q456.135 813.743 454.332 814.735 Q452.55 815.707 450.038 815.707 Q445.926 815.707 443.334 812.426 Q440.762 809.145 440.762 803.798 Q440.762 798.451 443.334 795.169 Q445.926 791.888 450.038 791.888 Q452.55 791.888 454.332 792.881 Q456.135 793.853 457.31 795.878 M444.61 803.798 Q444.61 807.909 446.291 810.259 Q447.992 812.588 450.95 812.588 Q453.907 812.588 455.608 810.259 Q457.31 807.909 457.31 803.798 Q457.31 799.686 455.608 797.357 Q453.907 795.007 450.95 795.007 Q447.992 795.007 446.291 797.357 Q444.61 799.686 444.61 803.798 Z\" fill=\"#000000\" fill-rule=\"nonzero\" fill-opacity=\"1\" /><path clip-path=\"url(#clip900)\" d=\"M477.868 784.88 L503.449 784.88 L503.449 788.323 L492.714 788.323 L492.714 815.12 L488.603 815.12 L488.603 788.323 L477.868 788.323 L477.868 784.88 Z\" fill=\"#000000\" fill-rule=\"nonzero\" fill-opacity=\"1\" /><path clip-path=\"url(#clip900)\" d=\"M514.285 795.919 Q513.658 795.554 512.908 795.392 Q512.179 795.21 511.288 795.21 Q508.128 795.21 506.427 797.276 Q504.746 799.321 504.746 803.17 L504.746 815.12 L500.999 815.12 L500.999 792.435 L504.746 792.435 L504.746 795.959 Q505.92 793.893 507.804 792.901 Q509.688 791.888 512.382 791.888 Q512.766 791.888 513.232 791.949 Q513.698 791.989 514.265 792.091 L514.285 795.919 Z\" fill=\"#000000\" fill-rule=\"nonzero\" fill-opacity=\"1\" /><path clip-path=\"url(#clip900)\" d=\"M536.687 802.846 L536.687 804.669 L519.552 804.669 Q519.795 808.517 521.861 810.542 Q523.947 812.548 527.653 812.548 Q529.8 812.548 531.806 812.021 Q533.831 811.494 535.816 810.441 L535.816 813.965 Q533.811 814.816 531.704 815.262 Q529.598 815.707 527.431 815.707 Q522.002 815.707 518.822 812.548 Q515.663 809.388 515.663 804 Q515.663 798.43 518.66 795.169 Q521.678 791.888 526.783 791.888 Q531.36 791.888 534.013 794.845 Q536.687 797.782 536.687 802.846 M532.96 801.752 Q532.92 798.694 531.239 796.871 Q529.578 795.048 526.823 795.048 Q523.704 795.048 521.82 796.81 Q519.957 798.572 519.673 801.772 L532.96 801.752 Z\" fill=\"#000000\" fill-rule=\"nonzero\" fill-opacity=\"1\" /><path clip-path=\"url(#clip900)\" d=\"M553.113 803.717 Q548.597 803.717 546.855 804.75 Q545.113 805.783 545.113 808.274 Q545.113 810.259 546.409 811.434 Q547.726 812.588 549.974 812.588 Q553.073 812.588 554.936 810.401 Q556.82 808.193 556.82 804.547 L556.82 803.717 L553.113 803.717 M560.547 802.177 L560.547 815.12 L556.82 815.12 L556.82 811.677 Q555.544 813.743 553.64 814.735 Q551.736 815.707 548.981 815.707 Q545.498 815.707 543.432 813.763 Q541.386 811.798 541.386 808.517 Q541.386 804.689 543.938 802.744 Q546.51 800.8 551.594 800.8 L556.82 800.8 L556.82 800.435 Q556.82 797.863 555.119 796.466 Q553.437 795.048 550.379 795.048 Q548.435 795.048 546.591 795.514 Q544.748 795.979 543.047 796.911 L543.047 793.468 Q545.093 792.678 547.017 792.293 Q548.941 791.888 550.764 791.888 Q555.686 791.888 558.116 794.44 Q560.547 796.992 560.547 802.177 Z\" fill=\"#000000\" fill-rule=\"nonzero\" fill-opacity=\"1\" /><path clip-path=\"url(#clip900)\" d=\"M571.91 785.994 L571.91 792.435 L579.586 792.435 L579.586 795.331 L571.91 795.331 L571.91 807.646 Q571.91 810.421 572.659 811.211 Q573.429 812.001 575.758 812.001 L579.586 812.001 L579.586 815.12 L575.758 815.12 Q571.444 815.12 569.803 813.52 Q568.163 811.9 568.163 807.646 L568.163 795.331 L565.428 795.331 L565.428 792.435 L568.163 792.435 L568.163 785.994 L571.91 785.994 Z\" fill=\"#000000\" fill-rule=\"nonzero\" fill-opacity=\"1\" /><path clip-path=\"url(#clip900)\" d=\"M602.15 796.79 Q603.547 794.278 605.492 793.083 Q607.436 791.888 610.069 791.888 Q613.614 791.888 615.538 794.379 Q617.462 796.85 617.462 801.428 L617.462 815.12 L613.715 815.12 L613.715 801.549 Q613.715 798.288 612.56 796.709 Q611.406 795.129 609.036 795.129 Q606.14 795.129 604.459 797.053 Q602.777 798.977 602.777 802.299 L602.777 815.12 L599.03 815.12 L599.03 801.549 Q599.03 798.268 597.876 796.709 Q596.721 795.129 594.311 795.129 Q591.455 795.129 589.774 797.073 Q588.093 798.997 588.093 802.299 L588.093 815.12 L584.346 815.12 L584.346 792.435 L588.093 792.435 L588.093 795.959 Q589.369 793.873 591.151 792.881 Q592.934 791.888 595.385 791.888 Q597.856 791.888 599.577 793.144 Q601.319 794.4 602.15 796.79 Z\" fill=\"#000000\" fill-rule=\"nonzero\" fill-opacity=\"1\" /><path clip-path=\"url(#clip900)\" d=\"M644.299 802.846 L644.299 804.669 L627.164 804.669 Q627.407 808.517 629.473 810.542 Q631.559 812.548 635.266 812.548 Q637.413 812.548 639.418 812.021 Q641.443 811.494 643.428 810.441 L643.428 813.965 Q641.423 814.816 639.317 815.262 Q637.21 815.707 635.043 815.707 Q629.615 815.707 626.435 812.548 Q623.275 809.388 623.275 804 Q623.275 798.43 626.273 795.169 Q629.291 791.888 634.395 791.888 Q638.972 791.888 641.626 794.845 Q644.299 797.782 644.299 802.846 M640.572 801.752 Q640.532 798.694 638.851 796.871 Q637.19 795.048 634.435 795.048 Q631.316 795.048 629.432 796.81 Q627.569 798.572 627.285 801.772 L640.572 801.752 Z\" fill=\"#000000\" fill-rule=\"nonzero\" fill-opacity=\"1\" /><path clip-path=\"url(#clip900)\" d=\"M669.273 801.428 L669.273 815.12 L665.546 815.12 L665.546 801.549 Q665.546 798.329 664.29 796.729 Q663.035 795.129 660.523 795.129 Q657.505 795.129 655.763 797.053 Q654.021 798.977 654.021 802.299 L654.021 815.12 L650.274 815.12 L650.274 792.435 L654.021 792.435 L654.021 795.959 Q655.358 793.914 657.161 792.901 Q658.984 791.888 661.354 791.888 Q665.263 791.888 667.268 794.319 Q669.273 796.729 669.273 801.428 Z\" fill=\"#000000\" fill-rule=\"nonzero\" fill-opacity=\"1\" /><path clip-path=\"url(#clip900)\" d=\"M680.393 785.994 L680.393 792.435 L688.069 792.435 L688.069 795.331 L680.393 795.331 L680.393 807.646 Q680.393 810.421 681.142 811.211 Q681.912 812.001 684.241 812.001 L688.069 812.001 L688.069 815.12 L684.241 815.12 Q679.927 815.12 678.286 813.52 Q676.646 811.9 676.646 807.646 L676.646 795.331 L673.911 795.331 L673.911 792.435 L676.646 792.435 L676.646 785.994 L680.393 785.994 Z\" fill=\"#000000\" fill-rule=\"nonzero\" fill-opacity=\"1\" /><path clip-path=\"url(#clip900)\" d=\"M1053.33 787.209 L1053.33 791.523 Q1051.26 789.599 1048.91 788.647 Q1046.58 787.695 1043.95 787.695 Q1038.76 787.695 1036.01 790.875 Q1033.25 794.035 1033.25 800.03 Q1033.25 806.005 1036.01 809.185 Q1038.76 812.345 1043.95 812.345 Q1046.58 812.345 1048.91 811.393 Q1051.26 810.441 1053.33 808.517 L1053.33 812.791 Q1051.18 814.249 1048.77 814.978 Q1046.38 815.707 1043.71 815.707 Q1036.84 815.707 1032.89 811.515 Q1028.94 807.302 1028.94 800.03 Q1028.94 792.739 1032.89 788.546 Q1036.84 784.333 1043.71 784.333 Q1046.42 784.333 1048.81 785.062 Q1051.22 785.771 1053.33 787.209 Z\" fill=\"#000000\" fill-rule=\"nonzero\" fill-opacity=\"1\" /><path clip-path=\"url(#clip900)\" d=\"M1078.34 801.428 L1078.34 815.12 L1074.61 815.12 L1074.61 801.549 Q1074.61 798.329 1073.36 796.729 Q1072.1 795.129 1069.59 795.129 Q1066.57 795.129 1064.83 797.053 Q1063.09 798.977 1063.09 802.299 L1063.09 815.12 L1059.34 815.12 L1059.34 783.604 L1063.09 783.604 L1063.09 795.959 Q1064.43 793.914 1066.23 792.901 Q1068.05 791.888 1070.42 791.888 Q1074.33 791.888 1076.34 794.319 Q1078.34 796.729 1078.34 801.428 Z\" fill=\"#000000\" fill-rule=\"nonzero\" fill-opacity=\"1\" /><path clip-path=\"url(#clip900)\" d=\"M1105.18 802.846 L1105.18 804.669 L1088.04 804.669 Q1088.29 808.517 1090.35 810.542 Q1092.44 812.548 1096.14 812.548 Q1098.29 812.548 1100.3 812.021 Q1102.32 811.494 1104.31 810.441 L1104.31 813.965 Q1102.3 814.816 1100.2 815.262 Q1098.09 815.707 1095.92 815.707 Q1090.49 815.707 1087.31 812.548 Q1084.15 809.388 1084.15 804 Q1084.15 798.43 1087.15 795.169 Q1090.17 791.888 1095.27 791.888 Q1099.85 791.888 1102.5 794.845 Q1105.18 797.782 1105.18 802.846 M1101.45 801.752 Q1101.41 798.694 1099.73 796.871 Q1098.07 795.048 1095.31 795.048 Q1092.2 795.048 1090.31 796.81 Q1088.45 798.572 1088.16 801.772 L1101.45 801.752 Z\" fill=\"#000000\" fill-rule=\"nonzero\" fill-opacity=\"1\" /><path clip-path=\"url(#clip900)\" d=\"M1128.96 796.79 Q1130.35 794.278 1132.3 793.083 Q1134.24 791.888 1136.88 791.888 Q1140.42 791.888 1142.35 794.379 Q1144.27 796.85 1144.27 801.428 L1144.27 815.12 L1140.52 815.12 L1140.52 801.549 Q1140.52 798.288 1139.37 796.709 Q1138.21 795.129 1135.84 795.129 Q1132.95 795.129 1131.27 797.053 Q1129.59 798.977 1129.59 802.299 L1129.59 815.12 L1125.84 815.12 L1125.84 801.549 Q1125.84 798.268 1124.68 796.709 Q1123.53 795.129 1121.12 795.129 Q1118.26 795.129 1116.58 797.073 Q1114.9 798.997 1114.9 802.299 L1114.9 815.12 L1111.15 815.12 L1111.15 792.435 L1114.9 792.435 L1114.9 795.959 Q1116.18 793.873 1117.96 792.881 Q1119.74 791.888 1122.19 791.888 Q1124.66 791.888 1126.38 793.144 Q1128.13 794.4 1128.96 796.79 Z\" fill=\"#000000\" fill-rule=\"nonzero\" fill-opacity=\"1\" /><path clip-path=\"url(#clip900)\" d=\"M1160.86 784.88 L1186.44 784.88 L1186.44 788.323 L1175.7 788.323 L1175.7 815.12 L1171.59 815.12 L1171.59 788.323 L1160.86 788.323 L1160.86 784.88 Z\" fill=\"#000000\" fill-rule=\"nonzero\" fill-opacity=\"1\" /><path clip-path=\"url(#clip900)\" d=\"M1197.28 795.919 Q1196.65 795.554 1195.9 795.392 Q1195.17 795.21 1194.28 795.21 Q1191.12 795.21 1189.42 797.276 Q1187.74 799.321 1187.74 803.17 L1187.74 815.12 L1183.99 815.12 L1183.99 792.435 L1187.74 792.435 L1187.74 795.959 Q1188.91 793.893 1190.79 792.901 Q1192.68 791.888 1195.37 791.888 Q1195.76 791.888 1196.22 791.949 Q1196.69 791.989 1197.26 792.091 L1197.28 795.919 Z\" fill=\"#000000\" fill-rule=\"nonzero\" fill-opacity=\"1\" /><path clip-path=\"url(#clip900)\" d=\"M1219.68 802.846 L1219.68 804.669 L1202.54 804.669 Q1202.78 808.517 1204.85 810.542 Q1206.94 812.548 1210.64 812.548 Q1212.79 812.548 1214.8 812.021 Q1216.82 811.494 1218.81 810.441 L1218.81 813.965 Q1216.8 814.816 1214.69 815.262 Q1212.59 815.707 1210.42 815.707 Q1204.99 815.707 1201.81 812.548 Q1198.65 809.388 1198.65 804 Q1198.65 798.43 1201.65 795.169 Q1204.67 791.888 1209.77 791.888 Q1214.35 791.888 1217 794.845 Q1219.68 797.782 1219.68 802.846 M1215.95 801.752 Q1215.91 798.694 1214.23 796.871 Q1212.57 795.048 1209.81 795.048 Q1206.69 795.048 1204.81 796.81 Q1202.95 798.572 1202.66 801.772 L1215.95 801.752 Z\" fill=\"#000000\" fill-rule=\"nonzero\" fill-opacity=\"1\" /><path clip-path=\"url(#clip900)\" d=\"M1236.1 803.717 Q1231.59 803.717 1229.85 804.75 Q1228.1 805.783 1228.1 808.274 Q1228.1 810.259 1229.4 811.434 Q1230.72 812.588 1232.96 812.588 Q1236.06 812.588 1237.93 810.401 Q1239.81 808.193 1239.81 804.547 L1239.81 803.717 L1236.1 803.717 M1243.54 802.177 L1243.54 815.12 L1239.81 815.12 L1239.81 811.677 Q1238.53 813.743 1236.63 814.735 Q1234.73 815.707 1231.97 815.707 Q1228.49 815.707 1226.42 813.763 Q1224.38 811.798 1224.38 808.517 Q1224.38 804.689 1226.93 802.744 Q1229.5 800.8 1234.58 800.8 L1239.81 800.8 L1239.81 800.435 Q1239.81 797.863 1238.11 796.466 Q1236.43 795.048 1233.37 795.048 Q1231.42 795.048 1229.58 795.514 Q1227.74 795.979 1226.04 796.911 L1226.04 793.468 Q1228.08 792.678 1230.01 792.293 Q1231.93 791.888 1233.75 791.888 Q1238.68 791.888 1241.11 794.44 Q1243.54 796.992 1243.54 802.177 Z\" fill=\"#000000\" fill-rule=\"nonzero\" fill-opacity=\"1\" /><path clip-path=\"url(#clip900)\" d=\"M1254.9 785.994 L1254.9 792.435 L1262.58 792.435 L1262.58 795.331 L1254.9 795.331 L1254.9 807.646 Q1254.9 810.421 1255.65 811.211 Q1256.42 812.001 1258.75 812.001 L1262.58 812.001 L1262.58 815.12 L1258.75 815.12 Q1254.43 815.12 1252.79 813.52 Q1251.15 811.9 1251.15 807.646 L1251.15 795.331 L1248.42 795.331 L1248.42 792.435 L1251.15 792.435 L1251.15 785.994 L1254.9 785.994 Z\" fill=\"#000000\" fill-rule=\"nonzero\" fill-opacity=\"1\" /><path clip-path=\"url(#clip900)\" d=\"M1285.14 796.79 Q1286.54 794.278 1288.48 793.083 Q1290.43 791.888 1293.06 791.888 Q1296.6 791.888 1298.53 794.379 Q1300.45 796.85 1300.45 801.428 L1300.45 815.12 L1296.71 815.12 L1296.71 801.549 Q1296.71 798.288 1295.55 796.709 Q1294.4 795.129 1292.03 795.129 Q1289.13 795.129 1287.45 797.053 Q1285.77 798.977 1285.77 802.299 L1285.77 815.12 L1282.02 815.12 L1282.02 801.549 Q1282.02 798.268 1280.87 796.709 Q1279.71 795.129 1277.3 795.129 Q1274.45 795.129 1272.76 797.073 Q1271.08 798.997 1271.08 802.299 L1271.08 815.12 L1267.34 815.12 L1267.34 792.435 L1271.08 792.435 L1271.08 795.959 Q1272.36 793.873 1274.14 792.881 Q1275.92 791.888 1278.37 791.888 Q1280.85 791.888 1282.57 793.144 Q1284.31 794.4 1285.14 796.79 Z\" fill=\"#000000\" fill-rule=\"nonzero\" fill-opacity=\"1\" /><path clip-path=\"url(#clip900)\" d=\"M1327.29 802.846 L1327.29 804.669 L1310.15 804.669 Q1310.4 808.517 1312.46 810.542 Q1314.55 812.548 1318.26 812.548 Q1320.4 812.548 1322.41 812.021 Q1324.43 811.494 1326.42 810.441 L1326.42 813.965 Q1324.41 814.816 1322.31 815.262 Q1320.2 815.707 1318.03 815.707 Q1312.61 815.707 1309.43 812.548 Q1306.27 809.388 1306.27 804 Q1306.27 798.43 1309.26 795.169 Q1312.28 791.888 1317.39 791.888 Q1321.96 791.888 1324.62 794.845 Q1327.29 797.782 1327.29 802.846 M1323.56 801.752 Q1323.52 798.694 1321.84 796.871 Q1320.18 795.048 1317.43 795.048 Q1314.31 795.048 1312.42 796.81 Q1310.56 798.572 1310.28 801.772 L1323.56 801.752 Z\" fill=\"#000000\" fill-rule=\"nonzero\" fill-opacity=\"1\" /><path clip-path=\"url(#clip900)\" d=\"M1352.26 801.428 L1352.26 815.12 L1348.54 815.12 L1348.54 801.549 Q1348.54 798.329 1347.28 796.729 Q1346.02 795.129 1343.51 795.129 Q1340.5 795.129 1338.75 797.053 Q1337.01 798.977 1337.01 802.299 L1337.01 815.12 L1333.26 815.12 L1333.26 792.435 L1337.01 792.435 L1337.01 795.959 Q1338.35 793.914 1340.15 792.901 Q1341.97 791.888 1344.34 791.888 Q1348.25 791.888 1350.26 794.319 Q1352.26 796.729 1352.26 801.428 Z\" fill=\"#000000\" fill-rule=\"nonzero\" fill-opacity=\"1\" /><path clip-path=\"url(#clip900)\" d=\"M1363.38 785.994 L1363.38 792.435 L1371.06 792.435 L1371.06 795.331 L1363.38 795.331 L1363.38 807.646 Q1363.38 810.421 1364.13 811.211 Q1364.9 812.001 1367.23 812.001 L1371.06 812.001 L1371.06 815.12 L1367.23 815.12 Q1362.92 815.12 1361.28 813.52 Q1359.64 811.9 1359.64 807.646 L1359.64 795.331 L1356.9 795.331 L1356.9 792.435 L1359.64 792.435 L1359.64 785.994 L1363.38 785.994 Z\" fill=\"#000000\" fill-rule=\"nonzero\" fill-opacity=\"1\" /><path clip-path=\"url(#clip900)\" d=\"M1734.97 1325.93 L1734.97 1337.29 L1740.11 1337.29 Q1742.97 1337.29 1744.53 1335.81 Q1746.09 1334.33 1746.09 1331.6 Q1746.09 1328.88 1744.53 1327.4 Q1742.97 1325.93 1740.11 1325.93 L1734.97 1325.93 M1730.88 1322.56 L1740.11 1322.56 Q1745.2 1322.56 1747.79 1324.87 Q1750.4 1327.16 1750.4 1331.6 Q1750.4 1336.07 1747.79 1338.36 Q1745.2 1340.65 1740.11 1340.65 L1734.97 1340.65 L1734.97 1352.8 L1730.88 1352.8 L1730.88 1322.56 Z\" fill=\"#000000\" fill-rule=\"nonzero\" fill-opacity=\"1\" /><path clip-path=\"url(#clip900)\" d=\"M1768.15 1333.6 Q1767.52 1333.24 1766.77 1333.07 Q1766.04 1332.89 1765.15 1332.89 Q1761.99 1332.89 1760.29 1334.96 Q1758.61 1337 1758.61 1340.85 L1758.61 1352.8 L1754.86 1352.8 L1754.86 1330.12 L1758.61 1330.12 L1758.61 1333.64 Q1759.78 1331.58 1761.67 1330.58 Q1763.55 1329.57 1766.24 1329.57 Q1766.63 1329.57 1767.09 1329.63 Q1767.56 1329.67 1768.13 1329.77 L1768.15 1333.6 Z\" fill=\"#000000\" fill-rule=\"nonzero\" fill-opacity=\"1\" /><path clip-path=\"url(#clip900)\" d=\"M1772.06 1330.12 L1775.78 1330.12 L1775.78 1352.8 L1772.06 1352.8 L1772.06 1330.12 M1772.06 1321.29 L1775.78 1321.29 L1775.78 1326.01 L1772.06 1326.01 L1772.06 1321.29 Z\" fill=\"#000000\" fill-rule=\"nonzero\" fill-opacity=\"1\" /><path clip-path=\"url(#clip900)\" d=\"M1798.04 1330.79 L1798.04 1334.31 Q1796.46 1333.5 1794.76 1333.1 Q1793.06 1332.69 1791.24 1332.69 Q1788.46 1332.69 1787.06 1333.54 Q1785.69 1334.39 1785.69 1336.09 Q1785.69 1337.39 1786.68 1338.14 Q1787.67 1338.87 1790.67 1339.54 L1791.95 1339.82 Q1795.92 1340.67 1797.58 1342.23 Q1799.26 1343.77 1799.26 1346.54 Q1799.26 1349.7 1796.75 1351.55 Q1794.26 1353.39 1789.88 1353.39 Q1788.06 1353.39 1786.07 1353.03 Q1784.11 1352.68 1781.92 1351.97 L1781.92 1348.12 Q1783.99 1349.2 1785.99 1349.74 Q1788 1350.27 1789.96 1350.27 Q1792.59 1350.27 1794.01 1349.38 Q1795.43 1348.47 1795.43 1346.83 Q1795.43 1345.31 1794.4 1344.5 Q1793.38 1343.69 1789.92 1342.94 L1788.62 1342.64 Q1785.16 1341.91 1783.62 1340.41 Q1782.08 1338.89 1782.08 1336.25 Q1782.08 1333.05 1784.35 1331.31 Q1786.62 1329.57 1790.79 1329.57 Q1792.86 1329.57 1794.68 1329.87 Q1796.5 1330.18 1798.04 1330.79 Z\" fill=\"#000000\" fill-rule=\"nonzero\" fill-opacity=\"1\" /><path clip-path=\"url(#clip900)\" d=\"M1808.88 1323.68 L1808.88 1330.12 L1816.56 1330.12 L1816.56 1333.01 L1808.88 1333.01 L1808.88 1345.33 Q1808.88 1348.1 1809.63 1348.89 Q1810.4 1349.68 1812.73 1349.68 L1816.56 1349.68 L1816.56 1352.8 L1812.73 1352.8 Q1808.41 1352.8 1806.77 1351.2 Q1805.13 1349.58 1805.13 1345.33 L1805.13 1333.01 L1802.4 1333.01 L1802.4 1330.12 L1805.13 1330.12 L1805.13 1323.68 L1808.88 1323.68 Z\" fill=\"#000000\" fill-rule=\"nonzero\" fill-opacity=\"1\" /><path clip-path=\"url(#clip900)\" d=\"M1821.46 1330.12 L1825.18 1330.12 L1825.18 1352.8 L1821.46 1352.8 L1821.46 1330.12 M1821.46 1321.29 L1825.18 1321.29 L1825.18 1326.01 L1821.46 1326.01 L1821.46 1321.29 Z\" fill=\"#000000\" fill-rule=\"nonzero\" fill-opacity=\"1\" /><path clip-path=\"url(#clip900)\" d=\"M1851.84 1339.11 L1851.84 1352.8 L1848.11 1352.8 L1848.11 1339.23 Q1848.11 1336.01 1846.86 1334.41 Q1845.6 1332.81 1843.09 1332.81 Q1840.07 1332.81 1838.33 1334.74 Q1836.59 1336.66 1836.59 1339.98 L1836.59 1352.8 L1832.84 1352.8 L1832.84 1330.12 L1836.59 1330.12 L1836.59 1333.64 Q1837.92 1331.6 1839.73 1330.58 Q1841.55 1329.57 1843.92 1329.57 Q1847.83 1329.57 1849.83 1332 Q1851.84 1334.41 1851.84 1339.11 Z\" fill=\"#000000\" fill-rule=\"nonzero\" fill-opacity=\"1\" /><path clip-path=\"url(#clip900)\" d=\"M1878.68 1340.53 L1878.68 1342.35 L1861.54 1342.35 Q1861.78 1346.2 1863.85 1348.23 Q1865.94 1350.23 1869.64 1350.23 Q1871.79 1350.23 1873.79 1349.7 Q1875.82 1349.18 1877.81 1348.12 L1877.81 1351.65 Q1875.8 1352.5 1873.69 1352.94 Q1871.59 1353.39 1869.42 1353.39 Q1863.99 1353.39 1860.81 1350.23 Q1857.65 1347.07 1857.65 1341.68 Q1857.65 1336.11 1860.65 1332.85 Q1863.67 1329.57 1868.77 1329.57 Q1873.35 1329.57 1876 1332.53 Q1878.68 1335.46 1878.68 1340.53 M1874.95 1339.43 Q1874.91 1336.38 1873.23 1334.55 Q1871.57 1332.73 1868.81 1332.73 Q1865.69 1332.73 1863.81 1334.49 Q1861.95 1336.25 1861.66 1339.46 L1874.95 1339.43 Z\" fill=\"#000000\" fill-rule=\"nonzero\" fill-opacity=\"1\" /><path clip-path=\"url(#clip900)\" d=\"M1902.23 1338.36 L1902.23 1349.44 L1908.79 1349.44 Q1912.1 1349.44 1913.68 1348.08 Q1915.28 1346.71 1915.28 1343.89 Q1915.28 1341.06 1913.68 1339.72 Q1912.1 1338.36 1908.79 1338.36 L1902.23 1338.36 M1902.23 1325.93 L1902.23 1335.04 L1908.29 1335.04 Q1911.29 1335.04 1912.74 1333.93 Q1914.22 1332.79 1914.22 1330.48 Q1914.22 1328.19 1912.74 1327.06 Q1911.29 1325.93 1908.29 1325.93 L1902.23 1325.93 M1898.14 1322.56 L1908.59 1322.56 Q1913.27 1322.56 1915.8 1324.51 Q1918.33 1326.45 1918.33 1330.04 Q1918.33 1332.81 1917.04 1334.45 Q1915.74 1336.09 1913.23 1336.5 Q1916.25 1337.15 1917.91 1339.21 Q1919.59 1341.26 1919.59 1344.34 Q1919.59 1348.39 1916.84 1350.6 Q1914.08 1352.8 1909 1352.8 L1898.14 1352.8 L1898.14 1322.56 Z\" fill=\"#000000\" fill-rule=\"nonzero\" fill-opacity=\"1\" /><path clip-path=\"url(#clip900)\" d=\"M1939.58 1333.6 Q1938.95 1333.24 1938.2 1333.07 Q1937.47 1332.89 1936.58 1332.89 Q1933.42 1332.89 1931.72 1334.96 Q1930.04 1337 1930.04 1340.85 L1930.04 1352.8 L1926.29 1352.8 L1926.29 1330.12 L1930.04 1330.12 L1930.04 1333.64 Q1931.22 1331.58 1933.1 1330.58 Q1934.98 1329.57 1937.68 1329.57 Q1938.06 1329.57 1938.53 1329.63 Q1938.99 1329.67 1939.56 1329.77 L1939.58 1333.6 Z\" fill=\"#000000\" fill-rule=\"nonzero\" fill-opacity=\"1\" /><path clip-path=\"url(#clip900)\" d=\"M1951.37 1332.73 Q1948.37 1332.73 1946.63 1335.08 Q1944.89 1337.41 1944.89 1341.48 Q1944.89 1345.55 1946.61 1347.9 Q1948.35 1350.23 1951.37 1350.23 Q1954.35 1350.23 1956.09 1347.88 Q1957.83 1345.53 1957.83 1341.48 Q1957.83 1337.45 1956.09 1335.1 Q1954.35 1332.73 1951.37 1332.73 M1951.37 1329.57 Q1956.23 1329.57 1959.01 1332.73 Q1961.78 1335.89 1961.78 1341.48 Q1961.78 1347.05 1959.01 1350.23 Q1956.23 1353.39 1951.37 1353.39 Q1946.49 1353.39 1943.71 1350.23 Q1940.96 1347.05 1940.96 1341.48 Q1940.96 1335.89 1943.71 1332.73 Q1946.49 1329.57 1951.37 1329.57 Z\" fill=\"#000000\" fill-rule=\"nonzero\" fill-opacity=\"1\" /><path clip-path=\"url(#clip900)\" d=\"M1976.75 1332.73 Q1973.75 1332.73 1972.01 1335.08 Q1970.27 1337.41 1970.27 1341.48 Q1970.27 1345.55 1971.99 1347.9 Q1973.73 1350.23 1976.75 1350.23 Q1979.73 1350.23 1981.47 1347.88 Q1983.21 1345.53 1983.21 1341.48 Q1983.21 1337.45 1981.47 1335.1 Q1979.73 1332.73 1976.75 1332.73 M1976.75 1329.57 Q1981.61 1329.57 1984.38 1332.73 Q1987.16 1335.89 1987.16 1341.48 Q1987.16 1347.05 1984.38 1350.23 Q1981.61 1353.39 1976.75 1353.39 Q1971.87 1353.39 1969.09 1350.23 Q1966.34 1347.05 1966.34 1341.48 Q1966.34 1335.89 1969.09 1332.73 Q1971.87 1329.57 1976.75 1329.57 Z\" fill=\"#000000\" fill-rule=\"nonzero\" fill-opacity=\"1\" /><path clip-path=\"url(#clip900)\" d=\"M1993.2 1321.29 L1996.94 1321.29 L1996.94 1339.9 L2008.06 1330.12 L2012.82 1330.12 L2000.79 1340.73 L2013.33 1352.8 L2008.47 1352.8 L1996.94 1341.72 L1996.94 1352.8 L1993.2 1352.8 L1993.2 1321.29 Z\" fill=\"#000000\" fill-rule=\"nonzero\" fill-opacity=\"1\" /></svg>\n"
            ],
            "text/html": [
              "<?xml version=\"1.0\" encoding=\"utf-8\"?>\n",
              "<svg xmlns=\"http://www.w3.org/2000/svg\" xmlns:xlink=\"http://www.w3.org/1999/xlink\" width=\"600\" height=\"400\" viewBox=\"0 0 2400 1600\">\n",
              "<defs>\n",
              "  <clipPath id=\"clip930\">\n",
              "    <rect x=\"0\" y=\"0\" width=\"2400\" height=\"1600\"/>\n",
              "  </clipPath>\n",
              "</defs>\n",
              "<path clip-path=\"url(#clip930)\" d=\"M0 1600 L2400 1600 L2400 0 L0 0  Z\" fill=\"#ffffff\" fill-rule=\"evenodd\" fill-opacity=\"1\"/>\n",
              "<defs>\n",
              "  <clipPath id=\"clip931\">\n",
              "    <rect x=\"480\" y=\"0\" width=\"1681\" height=\"1600\"/>\n",
              "  </clipPath>\n",
              "</defs>\n",
              "<path clip-path=\"url(#clip930)\" d=\"M259.055 1552.76 L2140.94 1552.76 L2140.94 47.2441 L259.055 47.2441  Z\" fill=\"#ffffff\" fill-rule=\"evenodd\" fill-opacity=\"1\"/>\n",
              "<defs>\n",
              "  <clipPath id=\"clip932\">\n",
              "    <rect x=\"259\" y=\"47\" width=\"1883\" height=\"1507\"/>\n",
              "  </clipPath>\n",
              "</defs>\n",
              "<polyline clip-path=\"url(#clip932)\" style=\"stroke:#000000; stroke-linecap:round; stroke-linejoin:round; stroke-width:4; stroke-opacity:1; fill:none\" points=\"1334.42,262.317 1318.22,275.046 1302.02,287.766 1285.83,300.469 1269.64,313.146 1253.48,325.79 1237.33,338.392 1221.2,350.944 1205.09,363.436 1189.02,375.861 1172.97,388.21 1156.96,400.474 1140.99,412.646 1125.07,424.716 1109.18,436.677 1093.35,448.52 1077.57,460.237 1061.85,471.818 1046.18,483.256 1030.58,494.543 1015.05,505.669 999.586,516.626 984.197,527.407 968.885,538.002 953.655,548.402 938.509,558.601 923.447,568.598 908.467,578.401 893.564,588.018 878.735,597.459 863.976,606.73 849.284,615.842 834.656,624.801 820.088,633.617 805.576,642.299 791.117,650.853 776.707,659.29 762.343,667.617 748.021,675.843 733.738,683.976 719.49,692.025 705.274,699.998 691.087,707.903 676.923,715.75 662.781,723.546 648.657,731.299 634.547,739.019 620.447,746.714 606.354,754.392 592.265,762.061 \"/>\n",
              "<polyline clip-path=\"url(#clip932)\" style=\"stroke:#000000; stroke-linecap:round; stroke-linejoin:round; stroke-width:4; stroke-opacity:1; fill:none\" points=\"632.49,760.659 592.265,762.061 615.278,729.04 \"/>\n",
              "<polyline clip-path=\"url(#clip932)\" style=\"stroke:#000000; stroke-linecap:round; stroke-linejoin:round; stroke-width:4; stroke-opacity:1; fill:none\" points=\"592.265,762.061 606.354,754.392 \"/>\n",
              "<polyline clip-path=\"url(#clip932)\" style=\"stroke:#000000; stroke-linecap:round; stroke-linejoin:round; stroke-width:4; stroke-opacity:1; fill:none\" points=\"1334.42,262.317 1333.14,274.076 1331.85,285.829 1330.55,297.572 1329.24,309.3 1327.92,321.006 1326.57,332.687 1325.21,344.336 1323.81,355.949 1322.38,367.521 1320.92,379.045 1319.42,390.518 1317.88,401.933 1316.28,413.286 1314.64,424.572 1312.94,435.784 1311.18,446.919 1309.36,457.97 1307.47,468.933 1305.51,479.803 1303.48,490.573 1301.37,501.24 1299.17,511.797 1296.89,522.24 1294.51,532.564 1292.05,542.763 1289.48,552.837 1286.83,562.792 1284.09,572.632 1281.27,582.363 1278.37,591.99 1275.39,601.518 1272.34,610.953 1269.23,620.299 1266.05,629.562 1262.81,638.747 1259.52,647.86 1256.18,656.904 1252.79,665.887 1249.35,674.812 1245.88,683.685 1242.37,692.511 1238.83,701.296 1235.26,710.044 1231.67,718.762 1228.06,727.453 1224.43,736.123 1220.79,744.778 1217.14,753.422 1213.49,762.061 \"/>\n",
              "<polyline clip-path=\"url(#clip932)\" style=\"stroke:#000000; stroke-linecap:round; stroke-linejoin:round; stroke-width:4; stroke-opacity:1; fill:none\" points=\"1244.09,735.908 1213.49,762.061 1210.93,721.894 \"/>\n",
              "<polyline clip-path=\"url(#clip932)\" style=\"stroke:#000000; stroke-linecap:round; stroke-linejoin:round; stroke-width:4; stroke-opacity:1; fill:none\" points=\"1213.49,762.061 1217.14,753.422 \"/>\n",
              "<polyline clip-path=\"url(#clip932)\" style=\"stroke:#000000; stroke-linecap:round; stroke-linejoin:round; stroke-width:4; stroke-opacity:1; fill:none\" points=\"1334.42,262.317 1344.89,286.727 1355.34,311.117 1365.79,335.467 1376.23,359.758 1386.65,383.97 1397.04,408.083 1407.41,432.078 1417.74,455.935 1428.03,479.633 1438.28,503.154 1448.49,526.477 1458.64,549.583 1468.73,572.452 1478.77,595.064 1488.74,617.4 1498.63,639.44 1508.45,661.163 1518.19,682.551 1527.85,703.583 1537.41,724.24 1546.88,744.502 1556.25,764.349 1565.52,783.762 1574.68,802.72 1583.72,821.205 1592.66,839.218 1601.48,856.775 1610.2,873.899 1618.82,890.607 1627.34,906.921 1635.77,922.859 1644.12,938.442 1652.39,953.689 1660.58,968.62 1668.71,983.254 1676.76,997.613 1684.76,1011.71 1692.69,1025.58 1700.58,1039.23 1708.42,1052.68 1716.21,1065.95 1723.97,1079.06 1731.7,1092.04 1739.39,1104.89 1747.06,1117.65 1754.72,1130.33 1762.36,1142.95 1769.99,1155.53 1777.61,1168.09 \"/>\n",
              "<polyline clip-path=\"url(#clip932)\" style=\"stroke:#000000; stroke-linecap:round; stroke-linejoin:round; stroke-width:4; stroke-opacity:1; fill:none\" points=\"1774.32,1127.98 1777.61,1168.09 1743.54,1146.66 \"/>\n",
              "<polyline clip-path=\"url(#clip932)\" style=\"stroke:#000000; stroke-linecap:round; stroke-linejoin:round; stroke-width:4; stroke-opacity:1; fill:none\" points=\"1777.61,1168.09 1769.99,1155.53 \"/>\n",
              "<polyline clip-path=\"url(#clip932)\" style=\"stroke:#000000; stroke-linecap:round; stroke-linejoin:round; stroke-width:4; stroke-opacity:1; fill:none\" points=\"527.897,800 556.372,813.092 584.833,826.172 613.265,839.231 641.653,852.257 669.983,865.238 698.241,878.165 726.411,891.025 754.48,903.809 782.433,916.504 810.255,929.1 837.931,941.587 865.449,953.951 892.791,966.184 919.946,978.274 946.896,990.209 973.629,1001.98 1000.13,1013.57 1026.38,1024.98 1052.38,1036.19 1078.09,1047.19 1103.52,1057.97 1128.64,1068.52 1153.44,1078.82 1177.91,1088.87 1202.03,1098.66 1225.8,1108.19 1249.24,1117.46 1272.36,1126.49 1295.18,1135.29 1317.7,1143.87 1339.95,1152.23 1361.93,1160.4 1383.67,1168.39 1405.18,1176.19 1426.47,1183.84 1447.56,1191.32 1468.45,1198.67 1489.18,1205.88 1509.74,1212.97 1530.16,1219.95 1550.45,1226.84 1570.62,1233.63 1590.69,1240.35 1610.67,1247 1630.58,1253.59 1650.43,1260.15 1670.24,1266.66 1690.02,1273.16 1709.79,1279.65 \"/>\n",
              "<polyline clip-path=\"url(#clip932)\" style=\"stroke:#000000; stroke-linecap:round; stroke-linejoin:round; stroke-width:4; stroke-opacity:1; fill:none\" points=\"1681.19,1251.32 1709.79,1279.65 1669.97,1285.52 \"/>\n",
              "<polyline clip-path=\"url(#clip932)\" style=\"stroke:#000000; stroke-linecap:round; stroke-linejoin:round; stroke-width:4; stroke-opacity:1; fill:none\" points=\"1709.79,1279.65 1690.02,1273.16 \"/>\n",
              "<polyline clip-path=\"url(#clip932)\" style=\"stroke:#000000; stroke-linecap:round; stroke-linejoin:round; stroke-width:4; stroke-opacity:1; fill:none\" points=\"1200,800 1214.11,813.255 1228.21,826.495 1242.28,839.707 1256.32,852.876 1270.32,865.988 1284.27,879.029 1298.15,891.984 1311.96,904.839 1325.68,917.58 1339.3,930.193 1352.82,942.663 1366.21,954.976 1379.48,967.118 1392.61,979.075 1405.58,990.831 1418.39,1002.37 1431.04,1013.69 1443.49,1024.76 1455.76,1035.58 1467.82,1046.12 1479.66,1056.38 1491.28,1066.34 1502.66,1075.99 1513.79,1085.3 1524.66,1094.28 1535.28,1102.91 1545.64,1111.22 1555.77,1119.21 1565.67,1126.9 1575.36,1134.31 1584.84,1141.45 1594.13,1148.33 1603.24,1154.96 1612.17,1161.37 1620.94,1167.57 1629.56,1173.56 1638.04,1179.37 1646.39,1185.01 1654.62,1190.49 1662.74,1195.83 1670.77,1201.04 1678.71,1206.14 1686.57,1211.14 1694.37,1216.05 1702.12,1220.89 1709.82,1225.67 1717.49,1230.41 1725.14,1235.12 1732.78,1239.82 \"/>\n",
              "<polyline clip-path=\"url(#clip932)\" style=\"stroke:#000000; stroke-linecap:round; stroke-linejoin:round; stroke-width:4; stroke-opacity:1; fill:none\" points=\"1711.54,1205.63 1732.78,1239.82 1692.69,1236.29 \"/>\n",
              "<polyline clip-path=\"url(#clip932)\" style=\"stroke:#000000; stroke-linecap:round; stroke-linejoin:round; stroke-width:4; stroke-opacity:1; fill:none\" points=\"1732.78,1239.82 1725.14,1235.12 \"/>\n",
              "<path clip-path=\"url(#clip932)\" d=\"M905.153 571.594 L986.99 571.594 L986.99 535.461 L905.153 535.461 L905.153 571.594 L905.153 571.594  Z\" fill=\"#ffffff\" fill-rule=\"evenodd\" fill-opacity=\"1\"/>\n",
              "<polyline clip-path=\"url(#clip932)\" style=\"stroke:#000000; stroke-linecap:round; stroke-linejoin:round; stroke-width:0; stroke-opacity:0; fill:none\" points=\"905.153,571.594 986.99,571.594 986.99,535.461 905.153,535.461 905.153,571.594 \"/>\n",
              "<path clip-path=\"url(#clip932)\" d=\"M1293.29 555.745 L1293.29 555.745 L1293.29 519.613 L1293.29 519.613 L1293.29 555.745 L1293.29 555.745  Z\" fill=\"#ffffff\" fill-rule=\"evenodd\" fill-opacity=\"1\"/>\n",
              "<polyline clip-path=\"url(#clip932)\" style=\"stroke:#000000; stroke-linecap:round; stroke-linejoin:round; stroke-width:0; stroke-opacity:0; fill:none\" points=\"1293.29,555.745 1293.29,555.745 1293.29,519.613 1293.29,555.745 \"/>\n",
              "<path clip-path=\"url(#clip932)\" d=\"M1579.22 830.089 L1579.22 830.089 L1579.22 793.957 L1579.22 793.957 L1579.22 830.089 L1579.22 830.089  Z\" fill=\"#ffffff\" fill-rule=\"evenodd\" fill-opacity=\"1\"/>\n",
              "<polyline clip-path=\"url(#clip932)\" style=\"stroke:#000000; stroke-linecap:round; stroke-linejoin:round; stroke-width:0; stroke-opacity:0; fill:none\" points=\"1579.22,830.089 1579.22,830.089 1579.22,793.957 1579.22,830.089 \"/>\n",
              "<path clip-path=\"url(#clip932)\" d=\"M1190.02 1111.87 L1190.02 1111.87 L1190.02 1075.74 L1190.02 1075.74 L1190.02 1111.87 L1190.02 1111.87  Z\" fill=\"#ffffff\" fill-rule=\"evenodd\" fill-opacity=\"1\"/>\n",
              "<polyline clip-path=\"url(#clip932)\" style=\"stroke:#000000; stroke-linecap:round; stroke-linejoin:round; stroke-width:0; stroke-opacity:0; fill:none\" points=\"1190.02,1111.87 1190.02,1111.87 1190.02,1075.74 1190.02,1111.87 \"/>\n",
              "<path clip-path=\"url(#clip932)\" d=\"M1519.26 1107.9 L1519.26 1107.9 L1519.26 1071.77 L1519.26 1071.77 L1519.26 1107.9 L1519.26 1107.9  Z\" fill=\"#ffffff\" fill-rule=\"evenodd\" fill-opacity=\"1\"/>\n",
              "<polyline clip-path=\"url(#clip932)\" style=\"stroke:#000000; stroke-linecap:round; stroke-linejoin:round; stroke-width:0; stroke-opacity:0; fill:none\" points=\"1519.26,1107.9 1519.26,1107.9 1519.26,1071.77 1519.26,1107.9 \"/>\n",
              "<path clip-path=\"url(#clip932)\" d=\"M1420.35 262.317 L1377.39 187.9 L1291.46 187.9 L1248.49 262.317 L1291.46 336.734 L1377.39 336.734 L1420.35 262.317 L1420.35 262.317  Z\" fill=\"#ffffff\" fill-rule=\"evenodd\" fill-opacity=\"1\"/>\n",
              "<polyline clip-path=\"url(#clip932)\" style=\"stroke:#000000; stroke-linecap:round; stroke-linejoin:round; stroke-width:4; stroke-opacity:1; fill:none\" points=\"1420.35,262.317 1377.39,187.9 1291.46,187.9 1248.49,262.317 1291.46,336.734 1377.39,336.734 1420.35,262.317 \"/>\n",
              "<path clip-path=\"url(#clip932)\" d=\"M332.072 837.939 L723.721 837.939 L723.721 762.061 L332.072 762.061 L332.072 837.939 L332.072 837.939  Z\" fill=\"#ffffff\" fill-rule=\"evenodd\" fill-opacity=\"1\"/>\n",
              "<polyline clip-path=\"url(#clip932)\" style=\"stroke:#000000; stroke-linecap:round; stroke-linejoin:round; stroke-width:4; stroke-opacity:1; fill:none\" points=\"332.072,837.939 723.721,837.939 723.721,762.061 332.072,762.061 332.072,837.939 \"/>\n",
              "<path clip-path=\"url(#clip932)\" d=\"M1004.18 837.939 L1395.82 837.939 L1395.82 762.061 L1004.18 762.061 L1004.18 837.939 L1004.18 837.939  Z\" fill=\"#ffffff\" fill-rule=\"evenodd\" fill-opacity=\"1\"/>\n",
              "<polyline clip-path=\"url(#clip932)\" style=\"stroke:#000000; stroke-linecap:round; stroke-linejoin:round; stroke-width:4; stroke-opacity:1; fill:none\" points=\"1004.18,837.939 1395.82,837.939 1395.82,762.061 1004.18,762.061 1004.18,837.939 \"/>\n",
              "<path clip-path=\"url(#clip932)\" d=\"M2067.93 1337.68 L1970.02 1168.09 L1774.19 1168.09 L1676.28 1337.68 L1774.19 1507.27 L1970.02 1507.27 L2067.93 1337.68 L2067.93 1337.68  Z\" fill=\"#ffffff\" fill-rule=\"evenodd\" fill-opacity=\"1\"/>\n",
              "<polyline clip-path=\"url(#clip932)\" style=\"stroke:#000000; stroke-linecap:round; stroke-linejoin:round; stroke-width:4; stroke-opacity:1; fill:none\" points=\"2067.93,1337.68 1970.02,1168.09 1774.19,1168.09 1676.28,1337.68 1774.19,1507.27 1970.02,1507.27 2067.93,1337.68 \"/>\n",
              "<path clip-path=\"url(#clip932)\" d=\"M1333.82 261.717 L1333.82 262.917 L1335.02 262.917 L1335.02 261.717 L1333.82 261.717 Z\" fill=\"#ffffff\" fill-rule=\"evenodd\" fill-opacity=\"1\" stroke=\"#000000\" stroke-opacity=\"1\" stroke-width=\"3.2\"/>\n",
              "<path clip-path=\"url(#clip932)\" d=\"M527.297 799.4 L527.297 800.6 L528.497 800.6 L528.497 799.4 L527.297 799.4 Z\" fill=\"#ffffff\" fill-rule=\"evenodd\" fill-opacity=\"1\" stroke=\"#000000\" stroke-opacity=\"1\" stroke-width=\"3.2\"/>\n",
              "<path clip-path=\"url(#clip932)\" d=\"M1199.4 799.4 L1199.4 800.6 L1200.6 800.6 L1200.6 799.4 L1199.4 799.4 Z\" fill=\"#ffffff\" fill-rule=\"evenodd\" fill-opacity=\"1\" stroke=\"#000000\" stroke-opacity=\"1\" stroke-width=\"3.2\"/>\n",
              "<path clip-path=\"url(#clip932)\" d=\"M1871.5 1337.08 L1871.5 1338.28 L1872.7 1338.28 L1872.7 1337.08 L1871.5 1337.08 Z\" fill=\"#ffffff\" fill-rule=\"evenodd\" fill-opacity=\"1\" stroke=\"#000000\" stroke-opacity=\"1\" stroke-width=\"3.2\"/>\n",
              "<path clip-path=\"url(#clip930)\" d=\"M896.67 538.408 L900.762 538.408 L900.762 550.803 L915.629 550.803 L915.629 538.408 L919.72 538.408 L919.72 568.648 L915.629 568.648 L915.629 554.247 L900.762 554.247 L900.762 568.648 L896.67 568.648 L896.67 538.408 Z\" fill=\"#000000\" fill-rule=\"nonzero\" fill-opacity=\"1\" /><path clip-path=\"url(#clip930)\" d=\"M947.104 556.373 L947.104 558.196 L929.969 558.196 Q930.212 562.045 932.278 564.07 Q934.364 566.075 938.071 566.075 Q940.218 566.075 942.223 565.549 Q944.248 565.022 946.233 563.969 L946.233 567.493 Q944.228 568.344 942.122 568.789 Q940.015 569.235 937.848 569.235 Q932.42 569.235 929.24 566.075 Q926.08 562.916 926.08 557.528 Q926.08 551.958 929.078 548.697 Q932.096 545.416 937.2 545.416 Q941.777 545.416 944.431 548.373 Q947.104 551.31 947.104 556.373 M943.377 555.28 Q943.337 552.221 941.656 550.398 Q939.995 548.575 937.24 548.575 Q934.121 548.575 932.237 550.337 Q930.374 552.1 930.09 555.3 L943.377 555.28 Z\" fill=\"#000000\" fill-rule=\"nonzero\" fill-opacity=\"1\" /><path clip-path=\"url(#clip930)\" d=\"M953.221 537.132 L956.948 537.132 L956.948 568.648 L953.221 568.648 L953.221 537.132 Z\" fill=\"#000000\" fill-rule=\"nonzero\" fill-opacity=\"1\" /><path clip-path=\"url(#clip930)\" d=\"M964.746 537.132 L968.473 537.132 L968.473 568.648 L964.746 568.648 L964.746 537.132 Z\" fill=\"#000000\" fill-rule=\"nonzero\" fill-opacity=\"1\" /><path clip-path=\"url(#clip930)\" d=\"M985.061 548.575 Q982.064 548.575 980.322 550.925 Q978.58 553.254 978.58 557.325 Q978.58 561.396 980.301 563.746 Q982.043 566.075 985.061 566.075 Q988.039 566.075 989.78 563.726 Q991.522 561.376 991.522 557.325 Q991.522 553.295 989.78 550.945 Q988.039 548.575 985.061 548.575 M985.061 545.416 Q989.922 545.416 992.697 548.575 Q995.472 551.735 995.472 557.325 Q995.472 562.895 992.697 566.075 Q989.922 569.235 985.061 569.235 Q980.18 569.235 977.405 566.075 Q974.65 562.895 974.65 557.325 Q974.65 551.735 977.405 548.575 Q980.18 545.416 985.061 545.416 Z\" fill=\"#000000\" fill-rule=\"nonzero\" fill-opacity=\"1\" /><path clip-path=\"url(#clip930)\" d=\"M1288.79 250.559 L1288.79 261.922 L1293.93 261.922 Q1296.79 261.922 1298.35 260.444 Q1299.91 258.965 1299.91 256.231 Q1299.91 253.517 1298.35 252.038 Q1296.79 250.559 1293.93 250.559 L1288.79 250.559 M1284.7 247.197 L1293.93 247.197 Q1299.02 247.197 1301.61 249.506 Q1304.22 251.795 1304.22 256.231 Q1304.22 260.707 1301.61 262.996 Q1299.02 265.284 1293.93 265.284 L1288.79 265.284 L1288.79 277.437 L1284.7 277.437 L1284.7 247.197 Z\" fill=\"#000000\" fill-rule=\"nonzero\" fill-opacity=\"1\" /><path clip-path=\"url(#clip930)\" d=\"M1309.55 245.921 L1313.27 245.921 L1313.27 277.437 L1309.55 277.437 L1309.55 245.921 Z\" fill=\"#000000\" fill-rule=\"nonzero\" fill-opacity=\"1\" /><path clip-path=\"url(#clip930)\" d=\"M1331.38 266.034 Q1326.87 266.034 1325.12 267.067 Q1323.38 268.1 1323.38 270.591 Q1323.38 272.576 1324.68 273.751 Q1325.99 274.905 1328.24 274.905 Q1331.34 274.905 1333.21 272.718 Q1335.09 270.51 1335.09 266.864 L1335.09 266.034 L1331.38 266.034 M1338.82 264.495 L1338.82 277.437 L1335.09 277.437 L1335.09 273.994 Q1333.81 276.06 1331.91 277.052 Q1330.01 278.025 1327.25 278.025 Q1323.77 278.025 1321.7 276.08 Q1319.66 274.115 1319.66 270.834 Q1319.66 267.006 1322.21 265.062 Q1324.78 263.117 1329.86 263.117 L1335.09 263.117 L1335.09 262.753 Q1335.09 260.18 1333.39 258.783 Q1331.71 257.365 1328.65 257.365 Q1326.7 257.365 1324.86 257.831 Q1323.02 258.297 1321.32 259.228 L1321.32 255.785 Q1323.36 254.995 1325.29 254.61 Q1327.21 254.205 1329.03 254.205 Q1333.95 254.205 1336.39 256.757 Q1338.82 259.309 1338.82 264.495 Z\" fill=\"#000000\" fill-rule=\"nonzero\" fill-opacity=\"1\" /><path clip-path=\"url(#clip930)\" d=\"M1365.35 263.745 L1365.35 277.437 L1361.62 277.437 L1361.62 263.867 Q1361.62 260.646 1360.37 259.046 Q1359.11 257.446 1356.6 257.446 Q1353.58 257.446 1351.84 259.37 Q1350.1 261.294 1350.1 264.616 L1350.1 277.437 L1346.35 277.437 L1346.35 254.752 L1350.1 254.752 L1350.1 258.276 Q1351.43 256.231 1353.24 255.218 Q1355.06 254.205 1357.43 254.205 Q1361.34 254.205 1363.34 256.636 Q1365.35 259.046 1365.35 263.745 Z\" fill=\"#000000\" fill-rule=\"nonzero\" fill-opacity=\"1\" /><path clip-path=\"url(#clip930)\" d=\"M1376.47 248.311 L1376.47 254.752 L1384.15 254.752 L1384.15 257.649 L1376.47 257.649 L1376.47 269.963 Q1376.47 272.738 1377.22 273.528 Q1377.99 274.318 1380.32 274.318 L1384.15 274.318 L1384.15 277.437 L1380.32 277.437 Q1376 277.437 1374.36 275.837 Q1372.72 274.217 1372.72 269.963 L1372.72 257.649 L1369.99 257.649 L1369.99 254.752 L1372.72 254.752 L1372.72 248.311 L1376.47 248.311 Z\" fill=\"#000000\" fill-rule=\"nonzero\" fill-opacity=\"1\" /><path clip-path=\"url(#clip930)\" d=\"M367.724 784.88 L371.815 784.88 L371.815 811.677 L386.54 811.677 L386.54 815.12 L367.724 815.12 L367.724 784.88 Z\" fill=\"#000000\" fill-rule=\"nonzero\" fill-opacity=\"1\" /><path clip-path=\"url(#clip930)\" d=\"M400.982 803.717 Q396.465 803.717 394.723 804.75 Q392.981 805.783 392.981 808.274 Q392.981 810.259 394.277 811.434 Q395.594 812.588 397.842 812.588 Q400.941 812.588 402.805 810.401 Q404.688 808.193 404.688 804.547 L404.688 803.717 L400.982 803.717 M408.415 802.177 L408.415 815.12 L404.688 815.12 L404.688 811.677 Q403.412 813.743 401.508 814.735 Q399.604 815.707 396.85 815.707 Q393.366 815.707 391.3 813.763 Q389.254 811.798 389.254 808.517 Q389.254 804.689 391.806 802.744 Q394.379 800.8 399.463 800.8 L404.688 800.8 L404.688 800.435 Q404.688 797.863 402.987 796.466 Q401.306 795.048 398.247 795.048 Q396.303 795.048 394.46 795.514 Q392.617 795.979 390.915 796.911 L390.915 793.468 Q392.961 792.678 394.885 792.293 Q396.809 791.888 398.632 791.888 Q403.554 791.888 405.985 794.44 Q408.415 796.992 408.415 802.177 Z\" fill=\"#000000\" fill-rule=\"nonzero\" fill-opacity=\"1\" /><path clip-path=\"url(#clip930)\" d=\"M434.949 801.428 L434.949 815.12 L431.222 815.12 L431.222 801.549 Q431.222 798.329 429.966 796.729 Q428.71 795.129 426.199 795.129 Q423.181 795.129 421.439 797.053 Q419.697 798.977 419.697 802.299 L419.697 815.12 L415.95 815.12 L415.95 792.435 L419.697 792.435 L419.697 795.959 Q421.034 793.914 422.836 792.901 Q424.659 791.888 427.029 791.888 Q430.938 791.888 432.943 794.319 Q434.949 796.729 434.949 801.428 Z\" fill=\"#000000\" fill-rule=\"nonzero\" fill-opacity=\"1\" /><path clip-path=\"url(#clip930)\" d=\"M457.31 795.878 L457.31 783.604 L461.036 783.604 L461.036 815.12 L457.31 815.12 L457.31 811.717 Q456.135 813.743 454.332 814.735 Q452.55 815.707 450.038 815.707 Q445.926 815.707 443.334 812.426 Q440.762 809.145 440.762 803.798 Q440.762 798.451 443.334 795.169 Q445.926 791.888 450.038 791.888 Q452.55 791.888 454.332 792.881 Q456.135 793.853 457.31 795.878 M444.61 803.798 Q444.61 807.909 446.291 810.259 Q447.992 812.588 450.95 812.588 Q453.907 812.588 455.608 810.259 Q457.31 807.909 457.31 803.798 Q457.31 799.686 455.608 797.357 Q453.907 795.007 450.95 795.007 Q447.992 795.007 446.291 797.357 Q444.61 799.686 444.61 803.798 Z\" fill=\"#000000\" fill-rule=\"nonzero\" fill-opacity=\"1\" /><path clip-path=\"url(#clip930)\" d=\"M477.868 784.88 L503.449 784.88 L503.449 788.323 L492.714 788.323 L492.714 815.12 L488.603 815.12 L488.603 788.323 L477.868 788.323 L477.868 784.88 Z\" fill=\"#000000\" fill-rule=\"nonzero\" fill-opacity=\"1\" /><path clip-path=\"url(#clip930)\" d=\"M514.285 795.919 Q513.658 795.554 512.908 795.392 Q512.179 795.21 511.288 795.21 Q508.128 795.21 506.427 797.276 Q504.746 799.321 504.746 803.17 L504.746 815.12 L500.999 815.12 L500.999 792.435 L504.746 792.435 L504.746 795.959 Q505.92 793.893 507.804 792.901 Q509.688 791.888 512.382 791.888 Q512.766 791.888 513.232 791.949 Q513.698 791.989 514.265 792.091 L514.285 795.919 Z\" fill=\"#000000\" fill-rule=\"nonzero\" fill-opacity=\"1\" /><path clip-path=\"url(#clip930)\" d=\"M536.687 802.846 L536.687 804.669 L519.552 804.669 Q519.795 808.517 521.861 810.542 Q523.947 812.548 527.653 812.548 Q529.8 812.548 531.806 812.021 Q533.831 811.494 535.816 810.441 L535.816 813.965 Q533.811 814.816 531.704 815.262 Q529.598 815.707 527.431 815.707 Q522.002 815.707 518.822 812.548 Q515.663 809.388 515.663 804 Q515.663 798.43 518.66 795.169 Q521.678 791.888 526.783 791.888 Q531.36 791.888 534.013 794.845 Q536.687 797.782 536.687 802.846 M532.96 801.752 Q532.92 798.694 531.239 796.871 Q529.578 795.048 526.823 795.048 Q523.704 795.048 521.82 796.81 Q519.957 798.572 519.673 801.772 L532.96 801.752 Z\" fill=\"#000000\" fill-rule=\"nonzero\" fill-opacity=\"1\" /><path clip-path=\"url(#clip930)\" d=\"M553.113 803.717 Q548.597 803.717 546.855 804.75 Q545.113 805.783 545.113 808.274 Q545.113 810.259 546.409 811.434 Q547.726 812.588 549.974 812.588 Q553.073 812.588 554.936 810.401 Q556.82 808.193 556.82 804.547 L556.82 803.717 L553.113 803.717 M560.547 802.177 L560.547 815.12 L556.82 815.12 L556.82 811.677 Q555.544 813.743 553.64 814.735 Q551.736 815.707 548.981 815.707 Q545.498 815.707 543.432 813.763 Q541.386 811.798 541.386 808.517 Q541.386 804.689 543.938 802.744 Q546.51 800.8 551.594 800.8 L556.82 800.8 L556.82 800.435 Q556.82 797.863 555.119 796.466 Q553.437 795.048 550.379 795.048 Q548.435 795.048 546.591 795.514 Q544.748 795.979 543.047 796.911 L543.047 793.468 Q545.093 792.678 547.017 792.293 Q548.941 791.888 550.764 791.888 Q555.686 791.888 558.116 794.44 Q560.547 796.992 560.547 802.177 Z\" fill=\"#000000\" fill-rule=\"nonzero\" fill-opacity=\"1\" /><path clip-path=\"url(#clip930)\" d=\"M571.91 785.994 L571.91 792.435 L579.586 792.435 L579.586 795.331 L571.91 795.331 L571.91 807.646 Q571.91 810.421 572.659 811.211 Q573.429 812.001 575.758 812.001 L579.586 812.001 L579.586 815.12 L575.758 815.12 Q571.444 815.12 569.803 813.52 Q568.163 811.9 568.163 807.646 L568.163 795.331 L565.428 795.331 L565.428 792.435 L568.163 792.435 L568.163 785.994 L571.91 785.994 Z\" fill=\"#000000\" fill-rule=\"nonzero\" fill-opacity=\"1\" /><path clip-path=\"url(#clip930)\" d=\"M602.15 796.79 Q603.547 794.278 605.492 793.083 Q607.436 791.888 610.069 791.888 Q613.614 791.888 615.538 794.379 Q617.462 796.85 617.462 801.428 L617.462 815.12 L613.715 815.12 L613.715 801.549 Q613.715 798.288 612.56 796.709 Q611.406 795.129 609.036 795.129 Q606.14 795.129 604.459 797.053 Q602.777 798.977 602.777 802.299 L602.777 815.12 L599.03 815.12 L599.03 801.549 Q599.03 798.268 597.876 796.709 Q596.721 795.129 594.311 795.129 Q591.455 795.129 589.774 797.073 Q588.093 798.997 588.093 802.299 L588.093 815.12 L584.346 815.12 L584.346 792.435 L588.093 792.435 L588.093 795.959 Q589.369 793.873 591.151 792.881 Q592.934 791.888 595.385 791.888 Q597.856 791.888 599.577 793.144 Q601.319 794.4 602.15 796.79 Z\" fill=\"#000000\" fill-rule=\"nonzero\" fill-opacity=\"1\" /><path clip-path=\"url(#clip930)\" d=\"M644.299 802.846 L644.299 804.669 L627.164 804.669 Q627.407 808.517 629.473 810.542 Q631.559 812.548 635.266 812.548 Q637.413 812.548 639.418 812.021 Q641.443 811.494 643.428 810.441 L643.428 813.965 Q641.423 814.816 639.317 815.262 Q637.21 815.707 635.043 815.707 Q629.615 815.707 626.435 812.548 Q623.275 809.388 623.275 804 Q623.275 798.43 626.273 795.169 Q629.291 791.888 634.395 791.888 Q638.972 791.888 641.626 794.845 Q644.299 797.782 644.299 802.846 M640.572 801.752 Q640.532 798.694 638.851 796.871 Q637.19 795.048 634.435 795.048 Q631.316 795.048 629.432 796.81 Q627.569 798.572 627.285 801.772 L640.572 801.752 Z\" fill=\"#000000\" fill-rule=\"nonzero\" fill-opacity=\"1\" /><path clip-path=\"url(#clip930)\" d=\"M669.273 801.428 L669.273 815.12 L665.546 815.12 L665.546 801.549 Q665.546 798.329 664.29 796.729 Q663.035 795.129 660.523 795.129 Q657.505 795.129 655.763 797.053 Q654.021 798.977 654.021 802.299 L654.021 815.12 L650.274 815.12 L650.274 792.435 L654.021 792.435 L654.021 795.959 Q655.358 793.914 657.161 792.901 Q658.984 791.888 661.354 791.888 Q665.263 791.888 667.268 794.319 Q669.273 796.729 669.273 801.428 Z\" fill=\"#000000\" fill-rule=\"nonzero\" fill-opacity=\"1\" /><path clip-path=\"url(#clip930)\" d=\"M680.393 785.994 L680.393 792.435 L688.069 792.435 L688.069 795.331 L680.393 795.331 L680.393 807.646 Q680.393 810.421 681.142 811.211 Q681.912 812.001 684.241 812.001 L688.069 812.001 L688.069 815.12 L684.241 815.12 Q679.927 815.12 678.286 813.52 Q676.646 811.9 676.646 807.646 L676.646 795.331 L673.911 795.331 L673.911 792.435 L676.646 792.435 L676.646 785.994 L680.393 785.994 Z\" fill=\"#000000\" fill-rule=\"nonzero\" fill-opacity=\"1\" /><path clip-path=\"url(#clip930)\" d=\"M1053.33 787.209 L1053.33 791.523 Q1051.26 789.599 1048.91 788.647 Q1046.58 787.695 1043.95 787.695 Q1038.76 787.695 1036.01 790.875 Q1033.25 794.035 1033.25 800.03 Q1033.25 806.005 1036.01 809.185 Q1038.76 812.345 1043.95 812.345 Q1046.58 812.345 1048.91 811.393 Q1051.26 810.441 1053.33 808.517 L1053.33 812.791 Q1051.18 814.249 1048.77 814.978 Q1046.38 815.707 1043.71 815.707 Q1036.84 815.707 1032.89 811.515 Q1028.94 807.302 1028.94 800.03 Q1028.94 792.739 1032.89 788.546 Q1036.84 784.333 1043.71 784.333 Q1046.42 784.333 1048.81 785.062 Q1051.22 785.771 1053.33 787.209 Z\" fill=\"#000000\" fill-rule=\"nonzero\" fill-opacity=\"1\" /><path clip-path=\"url(#clip930)\" d=\"M1078.34 801.428 L1078.34 815.12 L1074.61 815.12 L1074.61 801.549 Q1074.61 798.329 1073.36 796.729 Q1072.1 795.129 1069.59 795.129 Q1066.57 795.129 1064.83 797.053 Q1063.09 798.977 1063.09 802.299 L1063.09 815.12 L1059.34 815.12 L1059.34 783.604 L1063.09 783.604 L1063.09 795.959 Q1064.43 793.914 1066.23 792.901 Q1068.05 791.888 1070.42 791.888 Q1074.33 791.888 1076.34 794.319 Q1078.34 796.729 1078.34 801.428 Z\" fill=\"#000000\" fill-rule=\"nonzero\" fill-opacity=\"1\" /><path clip-path=\"url(#clip930)\" d=\"M1105.18 802.846 L1105.18 804.669 L1088.04 804.669 Q1088.29 808.517 1090.35 810.542 Q1092.44 812.548 1096.14 812.548 Q1098.29 812.548 1100.3 812.021 Q1102.32 811.494 1104.31 810.441 L1104.31 813.965 Q1102.3 814.816 1100.2 815.262 Q1098.09 815.707 1095.92 815.707 Q1090.49 815.707 1087.31 812.548 Q1084.15 809.388 1084.15 804 Q1084.15 798.43 1087.15 795.169 Q1090.17 791.888 1095.27 791.888 Q1099.85 791.888 1102.5 794.845 Q1105.18 797.782 1105.18 802.846 M1101.45 801.752 Q1101.41 798.694 1099.73 796.871 Q1098.07 795.048 1095.31 795.048 Q1092.2 795.048 1090.31 796.81 Q1088.45 798.572 1088.16 801.772 L1101.45 801.752 Z\" fill=\"#000000\" fill-rule=\"nonzero\" fill-opacity=\"1\" /><path clip-path=\"url(#clip930)\" d=\"M1128.96 796.79 Q1130.35 794.278 1132.3 793.083 Q1134.24 791.888 1136.88 791.888 Q1140.42 791.888 1142.35 794.379 Q1144.27 796.85 1144.27 801.428 L1144.27 815.12 L1140.52 815.12 L1140.52 801.549 Q1140.52 798.288 1139.37 796.709 Q1138.21 795.129 1135.84 795.129 Q1132.95 795.129 1131.27 797.053 Q1129.59 798.977 1129.59 802.299 L1129.59 815.12 L1125.84 815.12 L1125.84 801.549 Q1125.84 798.268 1124.68 796.709 Q1123.53 795.129 1121.12 795.129 Q1118.26 795.129 1116.58 797.073 Q1114.9 798.997 1114.9 802.299 L1114.9 815.12 L1111.15 815.12 L1111.15 792.435 L1114.9 792.435 L1114.9 795.959 Q1116.18 793.873 1117.96 792.881 Q1119.74 791.888 1122.19 791.888 Q1124.66 791.888 1126.38 793.144 Q1128.13 794.4 1128.96 796.79 Z\" fill=\"#000000\" fill-rule=\"nonzero\" fill-opacity=\"1\" /><path clip-path=\"url(#clip930)\" d=\"M1160.86 784.88 L1186.44 784.88 L1186.44 788.323 L1175.7 788.323 L1175.7 815.12 L1171.59 815.12 L1171.59 788.323 L1160.86 788.323 L1160.86 784.88 Z\" fill=\"#000000\" fill-rule=\"nonzero\" fill-opacity=\"1\" /><path clip-path=\"url(#clip930)\" d=\"M1197.28 795.919 Q1196.65 795.554 1195.9 795.392 Q1195.17 795.21 1194.28 795.21 Q1191.12 795.21 1189.42 797.276 Q1187.74 799.321 1187.74 803.17 L1187.74 815.12 L1183.99 815.12 L1183.99 792.435 L1187.74 792.435 L1187.74 795.959 Q1188.91 793.893 1190.79 792.901 Q1192.68 791.888 1195.37 791.888 Q1195.76 791.888 1196.22 791.949 Q1196.69 791.989 1197.26 792.091 L1197.28 795.919 Z\" fill=\"#000000\" fill-rule=\"nonzero\" fill-opacity=\"1\" /><path clip-path=\"url(#clip930)\" d=\"M1219.68 802.846 L1219.68 804.669 L1202.54 804.669 Q1202.78 808.517 1204.85 810.542 Q1206.94 812.548 1210.64 812.548 Q1212.79 812.548 1214.8 812.021 Q1216.82 811.494 1218.81 810.441 L1218.81 813.965 Q1216.8 814.816 1214.69 815.262 Q1212.59 815.707 1210.42 815.707 Q1204.99 815.707 1201.81 812.548 Q1198.65 809.388 1198.65 804 Q1198.65 798.43 1201.65 795.169 Q1204.67 791.888 1209.77 791.888 Q1214.35 791.888 1217 794.845 Q1219.68 797.782 1219.68 802.846 M1215.95 801.752 Q1215.91 798.694 1214.23 796.871 Q1212.57 795.048 1209.81 795.048 Q1206.69 795.048 1204.81 796.81 Q1202.95 798.572 1202.66 801.772 L1215.95 801.752 Z\" fill=\"#000000\" fill-rule=\"nonzero\" fill-opacity=\"1\" /><path clip-path=\"url(#clip930)\" d=\"M1236.1 803.717 Q1231.59 803.717 1229.85 804.75 Q1228.1 805.783 1228.1 808.274 Q1228.1 810.259 1229.4 811.434 Q1230.72 812.588 1232.96 812.588 Q1236.06 812.588 1237.93 810.401 Q1239.81 808.193 1239.81 804.547 L1239.81 803.717 L1236.1 803.717 M1243.54 802.177 L1243.54 815.12 L1239.81 815.12 L1239.81 811.677 Q1238.53 813.743 1236.63 814.735 Q1234.73 815.707 1231.97 815.707 Q1228.49 815.707 1226.42 813.763 Q1224.38 811.798 1224.38 808.517 Q1224.38 804.689 1226.93 802.744 Q1229.5 800.8 1234.58 800.8 L1239.81 800.8 L1239.81 800.435 Q1239.81 797.863 1238.11 796.466 Q1236.43 795.048 1233.37 795.048 Q1231.42 795.048 1229.58 795.514 Q1227.74 795.979 1226.04 796.911 L1226.04 793.468 Q1228.08 792.678 1230.01 792.293 Q1231.93 791.888 1233.75 791.888 Q1238.68 791.888 1241.11 794.44 Q1243.54 796.992 1243.54 802.177 Z\" fill=\"#000000\" fill-rule=\"nonzero\" fill-opacity=\"1\" /><path clip-path=\"url(#clip930)\" d=\"M1254.9 785.994 L1254.9 792.435 L1262.58 792.435 L1262.58 795.331 L1254.9 795.331 L1254.9 807.646 Q1254.9 810.421 1255.65 811.211 Q1256.42 812.001 1258.75 812.001 L1262.58 812.001 L1262.58 815.12 L1258.75 815.12 Q1254.43 815.12 1252.79 813.52 Q1251.15 811.9 1251.15 807.646 L1251.15 795.331 L1248.42 795.331 L1248.42 792.435 L1251.15 792.435 L1251.15 785.994 L1254.9 785.994 Z\" fill=\"#000000\" fill-rule=\"nonzero\" fill-opacity=\"1\" /><path clip-path=\"url(#clip930)\" d=\"M1285.14 796.79 Q1286.54 794.278 1288.48 793.083 Q1290.43 791.888 1293.06 791.888 Q1296.6 791.888 1298.53 794.379 Q1300.45 796.85 1300.45 801.428 L1300.45 815.12 L1296.71 815.12 L1296.71 801.549 Q1296.71 798.288 1295.55 796.709 Q1294.4 795.129 1292.03 795.129 Q1289.13 795.129 1287.45 797.053 Q1285.77 798.977 1285.77 802.299 L1285.77 815.12 L1282.02 815.12 L1282.02 801.549 Q1282.02 798.268 1280.87 796.709 Q1279.71 795.129 1277.3 795.129 Q1274.45 795.129 1272.76 797.073 Q1271.08 798.997 1271.08 802.299 L1271.08 815.12 L1267.34 815.12 L1267.34 792.435 L1271.08 792.435 L1271.08 795.959 Q1272.36 793.873 1274.14 792.881 Q1275.92 791.888 1278.37 791.888 Q1280.85 791.888 1282.57 793.144 Q1284.31 794.4 1285.14 796.79 Z\" fill=\"#000000\" fill-rule=\"nonzero\" fill-opacity=\"1\" /><path clip-path=\"url(#clip930)\" d=\"M1327.29 802.846 L1327.29 804.669 L1310.15 804.669 Q1310.4 808.517 1312.46 810.542 Q1314.55 812.548 1318.26 812.548 Q1320.4 812.548 1322.41 812.021 Q1324.43 811.494 1326.42 810.441 L1326.42 813.965 Q1324.41 814.816 1322.31 815.262 Q1320.2 815.707 1318.03 815.707 Q1312.61 815.707 1309.43 812.548 Q1306.27 809.388 1306.27 804 Q1306.27 798.43 1309.26 795.169 Q1312.28 791.888 1317.39 791.888 Q1321.96 791.888 1324.62 794.845 Q1327.29 797.782 1327.29 802.846 M1323.56 801.752 Q1323.52 798.694 1321.84 796.871 Q1320.18 795.048 1317.43 795.048 Q1314.31 795.048 1312.42 796.81 Q1310.56 798.572 1310.28 801.772 L1323.56 801.752 Z\" fill=\"#000000\" fill-rule=\"nonzero\" fill-opacity=\"1\" /><path clip-path=\"url(#clip930)\" d=\"M1352.26 801.428 L1352.26 815.12 L1348.54 815.12 L1348.54 801.549 Q1348.54 798.329 1347.28 796.729 Q1346.02 795.129 1343.51 795.129 Q1340.5 795.129 1338.75 797.053 Q1337.01 798.977 1337.01 802.299 L1337.01 815.12 L1333.26 815.12 L1333.26 792.435 L1337.01 792.435 L1337.01 795.959 Q1338.35 793.914 1340.15 792.901 Q1341.97 791.888 1344.34 791.888 Q1348.25 791.888 1350.26 794.319 Q1352.26 796.729 1352.26 801.428 Z\" fill=\"#000000\" fill-rule=\"nonzero\" fill-opacity=\"1\" /><path clip-path=\"url(#clip930)\" d=\"M1363.38 785.994 L1363.38 792.435 L1371.06 792.435 L1371.06 795.331 L1363.38 795.331 L1363.38 807.646 Q1363.38 810.421 1364.13 811.211 Q1364.9 812.001 1367.23 812.001 L1371.06 812.001 L1371.06 815.12 L1367.23 815.12 Q1362.92 815.12 1361.28 813.52 Q1359.64 811.9 1359.64 807.646 L1359.64 795.331 L1356.9 795.331 L1356.9 792.435 L1359.64 792.435 L1359.64 785.994 L1363.38 785.994 Z\" fill=\"#000000\" fill-rule=\"nonzero\" fill-opacity=\"1\" /><path clip-path=\"url(#clip930)\" d=\"M1734.97 1325.93 L1734.97 1337.29 L1740.11 1337.29 Q1742.97 1337.29 1744.53 1335.81 Q1746.09 1334.33 1746.09 1331.6 Q1746.09 1328.88 1744.53 1327.4 Q1742.97 1325.93 1740.11 1325.93 L1734.97 1325.93 M1730.88 1322.56 L1740.11 1322.56 Q1745.2 1322.56 1747.79 1324.87 Q1750.4 1327.16 1750.4 1331.6 Q1750.4 1336.07 1747.79 1338.36 Q1745.2 1340.65 1740.11 1340.65 L1734.97 1340.65 L1734.97 1352.8 L1730.88 1352.8 L1730.88 1322.56 Z\" fill=\"#000000\" fill-rule=\"nonzero\" fill-opacity=\"1\" /><path clip-path=\"url(#clip930)\" d=\"M1768.15 1333.6 Q1767.52 1333.24 1766.77 1333.07 Q1766.04 1332.89 1765.15 1332.89 Q1761.99 1332.89 1760.29 1334.96 Q1758.61 1337 1758.61 1340.85 L1758.61 1352.8 L1754.86 1352.8 L1754.86 1330.12 L1758.61 1330.12 L1758.61 1333.64 Q1759.78 1331.58 1761.67 1330.58 Q1763.55 1329.57 1766.24 1329.57 Q1766.63 1329.57 1767.09 1329.63 Q1767.56 1329.67 1768.13 1329.77 L1768.15 1333.6 Z\" fill=\"#000000\" fill-rule=\"nonzero\" fill-opacity=\"1\" /><path clip-path=\"url(#clip930)\" d=\"M1772.06 1330.12 L1775.78 1330.12 L1775.78 1352.8 L1772.06 1352.8 L1772.06 1330.12 M1772.06 1321.29 L1775.78 1321.29 L1775.78 1326.01 L1772.06 1326.01 L1772.06 1321.29 Z\" fill=\"#000000\" fill-rule=\"nonzero\" fill-opacity=\"1\" /><path clip-path=\"url(#clip930)\" d=\"M1798.04 1330.79 L1798.04 1334.31 Q1796.46 1333.5 1794.76 1333.1 Q1793.06 1332.69 1791.24 1332.69 Q1788.46 1332.69 1787.06 1333.54 Q1785.69 1334.39 1785.69 1336.09 Q1785.69 1337.39 1786.68 1338.14 Q1787.67 1338.87 1790.67 1339.54 L1791.95 1339.82 Q1795.92 1340.67 1797.58 1342.23 Q1799.26 1343.77 1799.26 1346.54 Q1799.26 1349.7 1796.75 1351.55 Q1794.26 1353.39 1789.88 1353.39 Q1788.06 1353.39 1786.07 1353.03 Q1784.11 1352.68 1781.92 1351.97 L1781.92 1348.12 Q1783.99 1349.2 1785.99 1349.74 Q1788 1350.27 1789.96 1350.27 Q1792.59 1350.27 1794.01 1349.38 Q1795.43 1348.47 1795.43 1346.83 Q1795.43 1345.31 1794.4 1344.5 Q1793.38 1343.69 1789.92 1342.94 L1788.62 1342.64 Q1785.16 1341.91 1783.62 1340.41 Q1782.08 1338.89 1782.08 1336.25 Q1782.08 1333.05 1784.35 1331.31 Q1786.62 1329.57 1790.79 1329.57 Q1792.86 1329.57 1794.68 1329.87 Q1796.5 1330.18 1798.04 1330.79 Z\" fill=\"#000000\" fill-rule=\"nonzero\" fill-opacity=\"1\" /><path clip-path=\"url(#clip930)\" d=\"M1808.88 1323.68 L1808.88 1330.12 L1816.56 1330.12 L1816.56 1333.01 L1808.88 1333.01 L1808.88 1345.33 Q1808.88 1348.1 1809.63 1348.89 Q1810.4 1349.68 1812.73 1349.68 L1816.56 1349.68 L1816.56 1352.8 L1812.73 1352.8 Q1808.41 1352.8 1806.77 1351.2 Q1805.13 1349.58 1805.13 1345.33 L1805.13 1333.01 L1802.4 1333.01 L1802.4 1330.12 L1805.13 1330.12 L1805.13 1323.68 L1808.88 1323.68 Z\" fill=\"#000000\" fill-rule=\"nonzero\" fill-opacity=\"1\" /><path clip-path=\"url(#clip930)\" d=\"M1821.46 1330.12 L1825.18 1330.12 L1825.18 1352.8 L1821.46 1352.8 L1821.46 1330.12 M1821.46 1321.29 L1825.18 1321.29 L1825.18 1326.01 L1821.46 1326.01 L1821.46 1321.29 Z\" fill=\"#000000\" fill-rule=\"nonzero\" fill-opacity=\"1\" /><path clip-path=\"url(#clip930)\" d=\"M1851.84 1339.11 L1851.84 1352.8 L1848.11 1352.8 L1848.11 1339.23 Q1848.11 1336.01 1846.86 1334.41 Q1845.6 1332.81 1843.09 1332.81 Q1840.07 1332.81 1838.33 1334.74 Q1836.59 1336.66 1836.59 1339.98 L1836.59 1352.8 L1832.84 1352.8 L1832.84 1330.12 L1836.59 1330.12 L1836.59 1333.64 Q1837.92 1331.6 1839.73 1330.58 Q1841.55 1329.57 1843.92 1329.57 Q1847.83 1329.57 1849.83 1332 Q1851.84 1334.41 1851.84 1339.11 Z\" fill=\"#000000\" fill-rule=\"nonzero\" fill-opacity=\"1\" /><path clip-path=\"url(#clip930)\" d=\"M1878.68 1340.53 L1878.68 1342.35 L1861.54 1342.35 Q1861.78 1346.2 1863.85 1348.23 Q1865.94 1350.23 1869.64 1350.23 Q1871.79 1350.23 1873.79 1349.7 Q1875.82 1349.18 1877.81 1348.12 L1877.81 1351.65 Q1875.8 1352.5 1873.69 1352.94 Q1871.59 1353.39 1869.42 1353.39 Q1863.99 1353.39 1860.81 1350.23 Q1857.65 1347.07 1857.65 1341.68 Q1857.65 1336.11 1860.65 1332.85 Q1863.67 1329.57 1868.77 1329.57 Q1873.35 1329.57 1876 1332.53 Q1878.68 1335.46 1878.68 1340.53 M1874.95 1339.43 Q1874.91 1336.38 1873.23 1334.55 Q1871.57 1332.73 1868.81 1332.73 Q1865.69 1332.73 1863.81 1334.49 Q1861.95 1336.25 1861.66 1339.46 L1874.95 1339.43 Z\" fill=\"#000000\" fill-rule=\"nonzero\" fill-opacity=\"1\" /><path clip-path=\"url(#clip930)\" d=\"M1902.23 1338.36 L1902.23 1349.44 L1908.79 1349.44 Q1912.1 1349.44 1913.68 1348.08 Q1915.28 1346.71 1915.28 1343.89 Q1915.28 1341.06 1913.68 1339.72 Q1912.1 1338.36 1908.79 1338.36 L1902.23 1338.36 M1902.23 1325.93 L1902.23 1335.04 L1908.29 1335.04 Q1911.29 1335.04 1912.74 1333.93 Q1914.22 1332.79 1914.22 1330.48 Q1914.22 1328.19 1912.74 1327.06 Q1911.29 1325.93 1908.29 1325.93 L1902.23 1325.93 M1898.14 1322.56 L1908.59 1322.56 Q1913.27 1322.56 1915.8 1324.51 Q1918.33 1326.45 1918.33 1330.04 Q1918.33 1332.81 1917.04 1334.45 Q1915.74 1336.09 1913.23 1336.5 Q1916.25 1337.15 1917.91 1339.21 Q1919.59 1341.26 1919.59 1344.34 Q1919.59 1348.39 1916.84 1350.6 Q1914.08 1352.8 1909 1352.8 L1898.14 1352.8 L1898.14 1322.56 Z\" fill=\"#000000\" fill-rule=\"nonzero\" fill-opacity=\"1\" /><path clip-path=\"url(#clip930)\" d=\"M1939.58 1333.6 Q1938.95 1333.24 1938.2 1333.07 Q1937.47 1332.89 1936.58 1332.89 Q1933.42 1332.89 1931.72 1334.96 Q1930.04 1337 1930.04 1340.85 L1930.04 1352.8 L1926.29 1352.8 L1926.29 1330.12 L1930.04 1330.12 L1930.04 1333.64 Q1931.22 1331.58 1933.1 1330.58 Q1934.98 1329.57 1937.68 1329.57 Q1938.06 1329.57 1938.53 1329.63 Q1938.99 1329.67 1939.56 1329.77 L1939.58 1333.6 Z\" fill=\"#000000\" fill-rule=\"nonzero\" fill-opacity=\"1\" /><path clip-path=\"url(#clip930)\" d=\"M1951.37 1332.73 Q1948.37 1332.73 1946.63 1335.08 Q1944.89 1337.41 1944.89 1341.48 Q1944.89 1345.55 1946.61 1347.9 Q1948.35 1350.23 1951.37 1350.23 Q1954.35 1350.23 1956.09 1347.88 Q1957.83 1345.53 1957.83 1341.48 Q1957.83 1337.45 1956.09 1335.1 Q1954.35 1332.73 1951.37 1332.73 M1951.37 1329.57 Q1956.23 1329.57 1959.01 1332.73 Q1961.78 1335.89 1961.78 1341.48 Q1961.78 1347.05 1959.01 1350.23 Q1956.23 1353.39 1951.37 1353.39 Q1946.49 1353.39 1943.71 1350.23 Q1940.96 1347.05 1940.96 1341.48 Q1940.96 1335.89 1943.71 1332.73 Q1946.49 1329.57 1951.37 1329.57 Z\" fill=\"#000000\" fill-rule=\"nonzero\" fill-opacity=\"1\" /><path clip-path=\"url(#clip930)\" d=\"M1976.75 1332.73 Q1973.75 1332.73 1972.01 1335.08 Q1970.27 1337.41 1970.27 1341.48 Q1970.27 1345.55 1971.99 1347.9 Q1973.73 1350.23 1976.75 1350.23 Q1979.73 1350.23 1981.47 1347.88 Q1983.21 1345.53 1983.21 1341.48 Q1983.21 1337.45 1981.47 1335.1 Q1979.73 1332.73 1976.75 1332.73 M1976.75 1329.57 Q1981.61 1329.57 1984.38 1332.73 Q1987.16 1335.89 1987.16 1341.48 Q1987.16 1347.05 1984.38 1350.23 Q1981.61 1353.39 1976.75 1353.39 Q1971.87 1353.39 1969.09 1350.23 Q1966.34 1347.05 1966.34 1341.48 Q1966.34 1335.89 1969.09 1332.73 Q1971.87 1329.57 1976.75 1329.57 Z\" fill=\"#000000\" fill-rule=\"nonzero\" fill-opacity=\"1\" /><path clip-path=\"url(#clip930)\" d=\"M1993.2 1321.29 L1996.94 1321.29 L1996.94 1339.9 L2008.06 1330.12 L2012.82 1330.12 L2000.79 1340.73 L2013.33 1352.8 L2008.47 1352.8 L1996.94 1341.72 L1996.94 1352.8 L1993.2 1352.8 L1993.2 1321.29 Z\" fill=\"#000000\" fill-rule=\"nonzero\" fill-opacity=\"1\" /></svg>\n"
            ]
          },
          "metadata": {},
          "output_type": "display_data"
        }
      ],
      "source": [
        "using GraphRecipes, Plots\n",
        "\n",
        "A = [0 1 1 1;\n",
        "    0 0 0 1;\n",
        "    0 0 0 1;\n",
        "    0 0 0 0]\n",
        "\n",
        "names = [\"Plant\", \"Land Treatment\", \"Chem Treatment\", \"Pristine Brook\"]\n",
        "# modify this dictionary to add labels\n",
        "edge_labels = Dict((1, 2) => \"\", (1,3) => \"\", (1, 4) => \"\",(2, 4) => \"\",(3, 4) => \"\")\n",
        "shapes=[:hexagon, :rect, :rect, :hexagon]\n",
        "xpos = [0, -1.5, -0.25, 1]\n",
        "ypos = [1, 0, 0, -1]\n",
        "\n",
        "graphplot(A, names=names,edgelabel=edge_labels, markersize=0.15, markershapes=shapes, markercolor=:white, x=xpos, y=ypos)"
      ]
    },
    {
      "cell_type": "markdown",
      "id": "315a69d0-821a-4a5d-bcc8-442c8b5e8383",
      "metadata": {},
      "source": [
        "#### Problem 4.2 (4 points)\n",
        "\n",
        "Formulate a mathematical model for the treatment cost and the amount of\n",
        "YUK that will be discharged into Pristine Brook based on the wastewater\n",
        "allocations. This is best done with some equations and supporting text\n",
        "explaining the derivation. Make sure you include, as additional\n",
        "equations in the model, any needed constraints on relevant values. You\n",
        "can find some basics on writing mathematical equations using the LaTeX\n",
        "typesetting syntax\n",
        "[here](https://viveks.me/environmental-systems-analysis/tutorials/latex-notebook.qmd),\n",
        "and a cheatsheet with LaTeX commands can be found on the course\n",
        "website’s [Resources\n",
        "page](https://viveks.me/environmental-systems-analysis/resources/markdown.qmd)."
      ]
    },
    {
      "cell_type": "markdown",
      "id": "aac9a2e7",
      "metadata": {},
      "source": [
        "This equation needs to strike a balance between the three, so as one price gets too high the next one goes up and when tat price gets too high, ect\n",
        "\n",
        "You definintly want to use all chemical until you get to 80%, so that would be 40m^3/day, You would have to represent this as an integral as the effeiciency is constantly changing. How do I do an integral?\n",
        "\n"
      ]
    },
    {
      "cell_type": "markdown",
      "id": "0ca36622-44b9-45c9-9fd7-ceb4143de61b",
      "metadata": {},
      "source": [
        "#### Problem 4.3 (4 points)\n",
        "\n",
        "Implement this systems model as a Julia function which computes the\n",
        "resulting YUK concentration and cost for a particular treatment plan.\n",
        "You can return multiple values from a function with a\n",
        "[tuple](https://docs.julialang.org/en/v1/manual/functions/#Tuples-1), as\n",
        "in:"
      ]
    },
    {
      "cell_type": "code",
      "execution_count": 7,
      "id": "af77ab90",
      "metadata": {},
      "outputs": [
        {
          "name": "stdout",
          "output_type": "stream",
          "text": [
            "a = 7\n",
            "b = 10"
          ]
        }
      ],
      "source": [
        "function multiple_return_values(x, y)\n",
        "    return (x+y, x*y)\n",
        "end\n",
        "\n",
        "a, b = multiple_return_values(2, 5)\n",
        "@show a;\n",
        "@show b;"
      ]
    },
    {
      "cell_type": "markdown",
      "id": "2ccade4f-8c74-41ae-9df5-5e5405290c0d",
      "metadata": {},
      "source": [
        "Make sure you comment your code appropriately to make it clear what is\n",
        "going on and why."
      ]
    },
    {
      "cell_type": "markdown",
      "id": "0c6540d9-661f-4ec5-b9e5-486afc7e816f",
      "metadata": {},
      "source": [
        "#### Problem 4.4 (5 points)\n",
        "\n",
        "Use your function to experiment with some different combinations of\n",
        "wastewater discharge and treatment. Can you find one that satisfies the\n",
        "YUK effluent standard? What was the cost? You don’t have to find an\n",
        "“optimal” solution to this problem, but what do you think would be\n",
        "needed to find a better solution?"
      ]
    },
    {
      "cell_type": "markdown",
      "id": "2bcd130b-c94d-4960-81e3-2b5fc94aa63a",
      "metadata": {},
      "source": [
        "## References\n",
        "\n",
        "List any external references consulted, including classmates."
      ]
    }
  ],
  "metadata": {
    "kernelspec": {
      "display_name": "Julia 1.9.2",
      "language": "julia",
      "name": "julia-1.9"
    },
    "language_info": {
      "file_extension": ".jl",
      "mimetype": "application/julia",
      "name": "julia",
      "version": "1.9.2"
    }
  },
  "nbformat": 4,
  "nbformat_minor": 5
}
